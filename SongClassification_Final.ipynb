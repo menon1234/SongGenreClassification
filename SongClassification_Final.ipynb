{
 "cells": [
  {
   "cell_type": "markdown",
   "id": "381a4697",
   "metadata": {
    "id": "7577b92f"
   },
   "source": [
    "# Song genre classification"
   ]
  },
  {
   "cell_type": "markdown",
   "id": "f7ac574f",
   "metadata": {
    "id": "6cb8fbbe"
   },
   "source": [
    "### ABSTRACT \n",
    "\n",
    "In this project we will be using the a Spotify Dataset which contains 5 different Genres which are Samba,Hip-hop, Rock , Pop , Funk, Carioca and Sertanejo.\n",
    "The aim of this project is to create a classifer which can classify into the separate categories.\n",
    "The data consisits of 2 separate files which are artists and lyrics.\n",
    "They have a common column between them which is Alink and this is used to mergre the two data frames and we get one dataframe.\n",
    "\n"
   ]
  },
  {
   "cell_type": "markdown",
   "id": "06c1bff4",
   "metadata": {
    "id": "bd85a4e3"
   },
   "source": [
    "### "
   ]
  },
  {
   "cell_type": "code",
   "execution_count": 1,
   "id": "308a1e17",
   "metadata": {
    "executionInfo": {
     "elapsed": 11813,
     "status": "ok",
     "timestamp": 1647715151824,
     "user": {
      "displayName": "nandu menon",
      "photoUrl": "https://lh3.googleusercontent.com/a/default-user=s64",
      "userId": "06441976334838440498"
     },
     "user_tz": -60
    },
    "id": "ed5492b6"
   },
   "outputs": [],
   "source": [
    "from spacy import displacy\n",
    "from wordcloud import WordCloud, STOPWORDS, ImageColorGenerator\n",
    "from sklearn.metrics import confusion_matrix\n",
    "from sklearn.model_selection import train_test_split\n",
    "from sklearn.preprocessing import StandardScaler\n",
    "import tqdm\n",
    "import torch\n",
    "from sklearn.metrics import confusion_matrix\n",
    "from tabulate import tabulate\n",
    "# import transformers as ppb # pytorch transformers\n",
    "from sklearn.metrics import precision_recall_fscore_support"
   ]
  },
  {
   "cell_type": "code",
   "execution_count": 2,
   "id": "ed3e1fcc",
   "metadata": {
    "colab": {
     "base_uri": "https://localhost:8080/"
    },
    "executionInfo": {
     "elapsed": 8646,
     "status": "ok",
     "timestamp": 1647715172313,
     "user": {
      "displayName": "nandu menon",
      "photoUrl": "https://lh3.googleusercontent.com/a/default-user=s64",
      "userId": "06441976334838440498"
     },
     "user_tz": -60
    },
    "id": "otnKaZQYGWhF",
    "outputId": "52a0dd28-a4ef-42ed-e8ab-23639d07e777"
   },
   "outputs": [
    {
     "name": "stdout",
     "output_type": "stream",
     "text": [
      "Requirement already satisfied: tensorflow_text in d:\\anaconda\\envs\\gpu_access\\lib\\site-packages (2.6.0)\n",
      "Requirement already satisfied: tensorflow-hub>=0.8.0 in d:\\anaconda\\envs\\gpu_access\\lib\\site-packages (from tensorflow_text) (0.12.0)\n",
      "Requirement already satisfied: tensorflow<2.7,>=2.6.0 in d:\\anaconda\\envs\\gpu_access\\lib\\site-packages (from tensorflow_text) (2.6.2)\n",
      "Requirement already satisfied: h5py~=3.1.0 in d:\\anaconda\\envs\\gpu_access\\lib\\site-packages (from tensorflow<2.7,>=2.6.0->tensorflow_text) (3.1.0)\n",
      "Requirement already satisfied: flatbuffers~=1.12.0 in d:\\anaconda\\envs\\gpu_access\\lib\\site-packages (from tensorflow<2.7,>=2.6.0->tensorflow_text) (1.12)\n",
      "Requirement already satisfied: protobuf>=3.9.2 in d:\\anaconda\\envs\\gpu_access\\lib\\site-packages (from tensorflow<2.7,>=2.6.0->tensorflow_text) (3.14.0)\n",
      "Requirement already satisfied: gast==0.4.0 in d:\\anaconda\\envs\\gpu_access\\lib\\site-packages (from tensorflow<2.7,>=2.6.0->tensorflow_text) (0.4.0)\n",
      "Requirement already satisfied: tensorboard<2.7,>=2.6.0 in d:\\anaconda\\envs\\gpu_access\\lib\\site-packages (from tensorflow<2.7,>=2.6.0->tensorflow_text) (2.6.0)\n",
      "Requirement already satisfied: wheel~=0.35 in d:\\anaconda\\envs\\gpu_access\\lib\\site-packages (from tensorflow<2.7,>=2.6.0->tensorflow_text) (0.37.1)\n",
      "Requirement already satisfied: google-pasta~=0.2 in d:\\anaconda\\envs\\gpu_access\\lib\\site-packages (from tensorflow<2.7,>=2.6.0->tensorflow_text) (0.2.0)\n",
      "Requirement already satisfied: wrapt~=1.12.1 in d:\\anaconda\\envs\\gpu_access\\lib\\site-packages (from tensorflow<2.7,>=2.6.0->tensorflow_text) (1.12.1)\n",
      "Requirement already satisfied: absl-py~=0.10 in d:\\anaconda\\envs\\gpu_access\\lib\\site-packages (from tensorflow<2.7,>=2.6.0->tensorflow_text) (0.15.0)\n",
      "Requirement already satisfied: termcolor~=1.1.0 in d:\\anaconda\\envs\\gpu_access\\lib\\site-packages (from tensorflow<2.7,>=2.6.0->tensorflow_text) (1.1.0)\n",
      "Requirement already satisfied: grpcio<2.0,>=1.37.0 in d:\\anaconda\\envs\\gpu_access\\lib\\site-packages (from tensorflow<2.7,>=2.6.0->tensorflow_text) (1.41.1)\n",
      "Requirement already satisfied: numpy~=1.19.2 in d:\\anaconda\\envs\\gpu_access\\lib\\site-packages (from tensorflow<2.7,>=2.6.0->tensorflow_text) (1.19.2)\n",
      "Requirement already satisfied: six~=1.15.0 in d:\\anaconda\\envs\\gpu_access\\lib\\site-packages (from tensorflow<2.7,>=2.6.0->tensorflow_text) (1.15.0)\n",
      "Requirement already satisfied: opt-einsum~=3.3.0 in d:\\anaconda\\envs\\gpu_access\\lib\\site-packages (from tensorflow<2.7,>=2.6.0->tensorflow_text) (3.3.0)\n",
      "Requirement already satisfied: clang~=5.0 in d:\\anaconda\\envs\\gpu_access\\lib\\site-packages (from tensorflow<2.7,>=2.6.0->tensorflow_text) (5.0)\n",
      "Requirement already satisfied: keras<2.7,>=2.6.0 in d:\\anaconda\\envs\\gpu_access\\lib\\site-packages (from tensorflow<2.7,>=2.6.0->tensorflow_text) (2.6.0)\n",
      "Requirement already satisfied: astunparse~=1.6.3 in d:\\anaconda\\envs\\gpu_access\\lib\\site-packages (from tensorflow<2.7,>=2.6.0->tensorflow_text) (1.6.3)\n",
      "Requirement already satisfied: typing-extensions~=3.7.4 in d:\\anaconda\\envs\\gpu_access\\lib\\site-packages (from tensorflow<2.7,>=2.6.0->tensorflow_text) (3.7.4.3)\n",
      "Requirement already satisfied: tensorflow-estimator<2.7,>=2.6.0 in d:\\anaconda\\envs\\gpu_access\\lib\\site-packages (from tensorflow<2.7,>=2.6.0->tensorflow_text) (2.6.0)\n",
      "Requirement already satisfied: keras-preprocessing~=1.1.2 in d:\\anaconda\\envs\\gpu_access\\lib\\site-packages (from tensorflow<2.7,>=2.6.0->tensorflow_text) (1.1.2)\n",
      "Requirement already satisfied: cached-property in d:\\anaconda\\envs\\gpu_access\\lib\\site-packages (from h5py~=3.1.0->tensorflow<2.7,>=2.6.0->tensorflow_text) (1.5.2)\n",
      "Requirement already satisfied: markdown>=2.6.8 in d:\\anaconda\\envs\\gpu_access\\lib\\site-packages (from tensorboard<2.7,>=2.6.0->tensorflow<2.7,>=2.6.0->tensorflow_text) (3.3.4)\n",
      "Requirement already satisfied: tensorboard-plugin-wit>=1.6.0 in d:\\anaconda\\envs\\gpu_access\\lib\\site-packages (from tensorboard<2.7,>=2.6.0->tensorflow<2.7,>=2.6.0->tensorflow_text) (1.6.0)\n",
      "Requirement already satisfied: werkzeug>=0.11.15 in d:\\anaconda\\envs\\gpu_access\\lib\\site-packages (from tensorboard<2.7,>=2.6.0->tensorflow<2.7,>=2.6.0->tensorflow_text) (0.16.1)\n",
      "Requirement already satisfied: google-auth-oauthlib<0.5,>=0.4.1 in d:\\anaconda\\envs\\gpu_access\\lib\\site-packages (from tensorboard<2.7,>=2.6.0->tensorflow<2.7,>=2.6.0->tensorflow_text) (0.4.1)\n",
      "Requirement already satisfied: google-auth<2,>=1.6.3 in d:\\anaconda\\envs\\gpu_access\\lib\\site-packages (from tensorboard<2.7,>=2.6.0->tensorflow<2.7,>=2.6.0->tensorflow_text) (1.33.0)\n",
      "Requirement already satisfied: requests<3,>=2.21.0 in d:\\anaconda\\envs\\gpu_access\\lib\\site-packages (from tensorboard<2.7,>=2.6.0->tensorflow<2.7,>=2.6.0->tensorflow_text) (2.27.1)\n",
      "Requirement already satisfied: setuptools>=41.0.0 in d:\\anaconda\\envs\\gpu_access\\lib\\site-packages (from tensorboard<2.7,>=2.6.0->tensorflow<2.7,>=2.6.0->tensorflow_text) (58.0.4)\n",
      "Requirement already satisfied: tensorboard-data-server<0.7.0,>=0.6.0 in d:\\anaconda\\envs\\gpu_access\\lib\\site-packages (from tensorboard<2.7,>=2.6.0->tensorflow<2.7,>=2.6.0->tensorflow_text) (0.6.1)\n",
      "Requirement already satisfied: pyasn1-modules>=0.2.1 in d:\\anaconda\\envs\\gpu_access\\lib\\site-packages (from google-auth<2,>=1.6.3->tensorboard<2.7,>=2.6.0->tensorflow<2.7,>=2.6.0->tensorflow_text) (0.2.8)\n",
      "Requirement already satisfied: rsa<5,>=3.1.4 in d:\\anaconda\\envs\\gpu_access\\lib\\site-packages (from google-auth<2,>=1.6.3->tensorboard<2.7,>=2.6.0->tensorflow<2.7,>=2.6.0->tensorflow_text) (4.7.2)\n",
      "Requirement already satisfied: cachetools<5.0,>=2.0.0 in d:\\anaconda\\envs\\gpu_access\\lib\\site-packages (from google-auth<2,>=1.6.3->tensorboard<2.7,>=2.6.0->tensorflow<2.7,>=2.6.0->tensorflow_text) (4.2.2)\n",
      "Requirement already satisfied: requests-oauthlib>=0.7.0 in d:\\anaconda\\envs\\gpu_access\\lib\\site-packages (from google-auth-oauthlib<0.5,>=0.4.1->tensorboard<2.7,>=2.6.0->tensorflow<2.7,>=2.6.0->tensorflow_text) (1.3.0)\n",
      "Requirement already satisfied: importlib-metadata in d:\\anaconda\\envs\\gpu_access\\lib\\site-packages (from markdown>=2.6.8->tensorboard<2.7,>=2.6.0->tensorflow<2.7,>=2.6.0->tensorflow_text) (3.10.0)\n",
      "Requirement already satisfied: pyasn1<0.5.0,>=0.4.6 in d:\\anaconda\\envs\\gpu_access\\lib\\site-packages (from pyasn1-modules>=0.2.1->google-auth<2,>=1.6.3->tensorboard<2.7,>=2.6.0->tensorflow<2.7,>=2.6.0->tensorflow_text) (0.4.8)\n",
      "Requirement already satisfied: idna<4,>=2.5 in d:\\anaconda\\envs\\gpu_access\\lib\\site-packages (from requests<3,>=2.21.0->tensorboard<2.7,>=2.6.0->tensorflow<2.7,>=2.6.0->tensorflow_text) (3.3)\n",
      "Requirement already satisfied: certifi>=2017.4.17 in d:\\anaconda\\envs\\gpu_access\\lib\\site-packages (from requests<3,>=2.21.0->tensorboard<2.7,>=2.6.0->tensorflow<2.7,>=2.6.0->tensorflow_text) (2021.5.30)\n",
      "Requirement already satisfied: charset-normalizer~=2.0.0 in d:\\anaconda\\envs\\gpu_access\\lib\\site-packages (from requests<3,>=2.21.0->tensorboard<2.7,>=2.6.0->tensorflow<2.7,>=2.6.0->tensorflow_text) (2.0.4)\n",
      "Requirement already satisfied: urllib3<1.27,>=1.21.1 in d:\\anaconda\\envs\\gpu_access\\lib\\site-packages (from requests<3,>=2.21.0->tensorboard<2.7,>=2.6.0->tensorflow<2.7,>=2.6.0->tensorflow_text) (1.26.8)\n",
      "Requirement already satisfied: oauthlib>=3.0.0 in d:\\anaconda\\envs\\gpu_access\\lib\\site-packages (from requests-oauthlib>=0.7.0->google-auth-oauthlib<0.5,>=0.4.1->tensorboard<2.7,>=2.6.0->tensorflow<2.7,>=2.6.0->tensorflow_text) (3.2.0)\n",
      "Requirement already satisfied: zipp>=0.5 in d:\\anaconda\\envs\\gpu_access\\lib\\site-packages (from importlib-metadata->markdown>=2.6.8->tensorboard<2.7,>=2.6.0->tensorflow<2.7,>=2.6.0->tensorflow_text) (3.4.1)\n"
     ]
    },
    {
     "name": "stderr",
     "output_type": "stream",
     "text": [
      "WARNING: Ignoring invalid distribution -qdm (d:\\anaconda\\envs\\gpu_access\\lib\\site-packages)\n",
      "WARNING: Ignoring invalid distribution -qdm (d:\\anaconda\\envs\\gpu_access\\lib\\site-packages)\n",
      "WARNING: Ignoring invalid distribution -qdm (d:\\anaconda\\envs\\gpu_access\\lib\\site-packages)\n",
      "WARNING: Ignoring invalid distribution -qdm (d:\\anaconda\\envs\\gpu_access\\lib\\site-packages)\n",
      "WARNING: Ignoring invalid distribution -qdm (d:\\anaconda\\envs\\gpu_access\\lib\\site-packages)\n"
     ]
    }
   ],
   "source": [
    "!pip install tensorflow_text"
   ]
  },
  {
   "cell_type": "code",
   "execution_count": 4,
   "id": "554234c2",
   "metadata": {
    "colab": {
     "base_uri": "https://localhost:8080/"
    },
    "executionInfo": {
     "elapsed": 74687,
     "status": "ok",
     "timestamp": 1647715246995,
     "user": {
      "displayName": "nandu menon",
      "photoUrl": "https://lh3.googleusercontent.com/a/default-user=s64",
      "userId": "06441976334838440498"
     },
     "user_tz": -60
    },
    "id": "sWRMekD4d9vA",
    "outputId": "9e4f8779-1b50-42bb-ad18-a65c5e6380d5"
   },
   "outputs": [],
   "source": [
    "# from google.colab import drive\n",
    "# drive.mount('/gdrive')\n",
    "# %cd /gdrive"
   ]
  },
  {
   "cell_type": "code",
   "execution_count": 5,
   "id": "3b5844a7",
   "metadata": {
    "colab": {
     "base_uri": "https://localhost:8080/"
    },
    "executionInfo": {
     "elapsed": 3349,
     "status": "ok",
     "timestamp": 1647715250341,
     "user": {
      "displayName": "nandu menon",
      "photoUrl": "https://lh3.googleusercontent.com/a/default-user=s64",
      "userId": "06441976334838440498"
     },
     "user_tz": -60
    },
    "id": "VxxJih6BekQe",
    "outputId": "8c9f4243-24f5-4d03-bb86-a19dd7bc1623"
   },
   "outputs": [],
   "source": [
    "# from google.colab import drive\n",
    "# drive.mount('/content/drive')"
   ]
  },
  {
   "cell_type": "code",
   "execution_count": 6,
   "id": "18485354",
   "metadata": {
    "executionInfo": {
     "elapsed": 5,
     "status": "ok",
     "timestamp": 1647715250342,
     "user": {
      "displayName": "nandu menon",
      "photoUrl": "https://lh3.googleusercontent.com/a/default-user=s64",
      "userId": "06441976334838440498"
     },
     "user_tz": -60
    },
    "id": "ZbOjFIUleEJM"
   },
   "outputs": [],
   "source": [
    "# file = r'/content/drive/MyDrive/SongClassification[Genre,Lyrics]/archive/lyrics-data.csv'\n",
    "# file2 = r'/content/drive/MyDrive/SongClassification[Genre,Lyrics]/archive/artists-data.csv'\n",
    "# file3 = r'/content/drive/MyDrive/SongClassification[Genre,Lyrics]/archive/SongClassification.py'"
   ]
  },
  {
   "cell_type": "code",
   "execution_count": 7,
   "id": "65db1cb1",
   "metadata": {
    "id": "aaab90fe"
   },
   "outputs": [
    {
     "name": "stdout",
     "output_type": "stream",
     "text": [
      "[name: \"/device:CPU:0\"\n",
      "device_type: \"CPU\"\n",
      "memory_limit: 268435456\n",
      "locality {\n",
      "}\n",
      "incarnation: 97714098385145084\n",
      ", name: \"/device:GPU:0\"\n",
      "device_type: \"GPU\"\n",
      "memory_limit: 4183621632\n",
      "locality {\n",
      "  bus_id: 1\n",
      "  links {\n",
      "  }\n",
      "}\n",
      "incarnation: 14569770822461027423\n",
      "physical_device_desc: \"device: 0, name: GeForce GTX 1660 Ti, pci bus id: 0000:01:00.0, compute capability: 7.5\"\n",
      "]\n"
     ]
    }
   ],
   "source": [
    "%run SongClassification.py\n"
   ]
  },
  {
   "cell_type": "markdown",
   "id": "3cece851",
   "metadata": {
    "id": "aeb0cf53"
   },
   "source": [
    "This shows that there is one GPU available for processing the data in tensorflow background.\n",
    "This is a GTX1660Ti and we are going to train all the deep learning models on this library"
   ]
  },
  {
   "cell_type": "markdown",
   "id": "61bd5126",
   "metadata": {
    "id": "73583177"
   },
   "source": [
    "### Aim of the Project\n",
    "Since we are going to classifiy the genre we only need to have the lyrics and the genre for each of the lyrics.\n",
    "So now we are going to preprocess the whole dataset into just lyrics and genre.\n"
   ]
  },
  {
   "cell_type": "code",
   "execution_count": 8,
   "id": "3b7c96fa",
   "metadata": {
    "id": "c98a3ca1"
   },
   "outputs": [],
   "source": [
    "df_artist = pd.read_csv ('artists-data.csv')\n",
    "df_songlist  =  pd.read_csv ('lyrics-data.csv')\n",
    "df_new = df_artist.rename(columns={'Link': 'ALink'})\n",
    "## Here we are only going to take the ENGLSIH Songs.\n",
    "new_df_songlist = df_songlist[df_songlist['Idiom'] == 'ENGLISH']"
   ]
  },
  {
   "cell_type": "code",
   "execution_count": 9,
   "id": "cc16796e",
   "metadata": {
    "id": "8d7f3fec"
   },
   "outputs": [
    {
     "data": {
      "text/html": [
       "<div>\n",
       "<style scoped>\n",
       "    .dataframe tbody tr th:only-of-type {\n",
       "        vertical-align: middle;\n",
       "    }\n",
       "\n",
       "    .dataframe tbody tr th {\n",
       "        vertical-align: top;\n",
       "    }\n",
       "\n",
       "    .dataframe thead th {\n",
       "        text-align: right;\n",
       "    }\n",
       "</style>\n",
       "<table border=\"1\" class=\"dataframe\">\n",
       "  <thead>\n",
       "    <tr style=\"text-align: right;\">\n",
       "      <th></th>\n",
       "      <th>ALink</th>\n",
       "      <th>SName</th>\n",
       "      <th>SLink</th>\n",
       "      <th>Lyric</th>\n",
       "      <th>Idiom</th>\n",
       "      <th>Artist</th>\n",
       "      <th>Songs</th>\n",
       "      <th>Popularity</th>\n",
       "      <th>Genre</th>\n",
       "      <th>Genres</th>\n",
       "    </tr>\n",
       "  </thead>\n",
       "  <tbody>\n",
       "    <tr>\n",
       "      <th>0</th>\n",
       "      <td>/10000-maniacs/</td>\n",
       "      <td>More Than This</td>\n",
       "      <td>/10000-maniacs/more-than-this.html</td>\n",
       "      <td>I could feel at the time. There was no way of ...</td>\n",
       "      <td>ENGLISH</td>\n",
       "      <td>10000 Maniacs</td>\n",
       "      <td>110</td>\n",
       "      <td>0.3</td>\n",
       "      <td>Rock</td>\n",
       "      <td>Rock; Pop; Electronica; Dance; J-Pop/J-Rock; G...</td>\n",
       "    </tr>\n",
       "    <tr>\n",
       "      <th>1</th>\n",
       "      <td>/10000-maniacs/</td>\n",
       "      <td>More Than This</td>\n",
       "      <td>/10000-maniacs/more-than-this.html</td>\n",
       "      <td>I could feel at the time. There was no way of ...</td>\n",
       "      <td>ENGLISH</td>\n",
       "      <td>10000 Maniacs</td>\n",
       "      <td>110</td>\n",
       "      <td>0.3</td>\n",
       "      <td>Pop</td>\n",
       "      <td>Rock; Pop; Electronica; Dance; J-Pop/J-Rock; G...</td>\n",
       "    </tr>\n",
       "    <tr>\n",
       "      <th>2</th>\n",
       "      <td>/10000-maniacs/</td>\n",
       "      <td>Because The Night</td>\n",
       "      <td>/10000-maniacs/because-the-night.html</td>\n",
       "      <td>Take me now, baby, here as I am. Hold me close...</td>\n",
       "      <td>ENGLISH</td>\n",
       "      <td>10000 Maniacs</td>\n",
       "      <td>110</td>\n",
       "      <td>0.3</td>\n",
       "      <td>Rock</td>\n",
       "      <td>Rock; Pop; Electronica; Dance; J-Pop/J-Rock; G...</td>\n",
       "    </tr>\n",
       "    <tr>\n",
       "      <th>3</th>\n",
       "      <td>/10000-maniacs/</td>\n",
       "      <td>Because The Night</td>\n",
       "      <td>/10000-maniacs/because-the-night.html</td>\n",
       "      <td>Take me now, baby, here as I am. Hold me close...</td>\n",
       "      <td>ENGLISH</td>\n",
       "      <td>10000 Maniacs</td>\n",
       "      <td>110</td>\n",
       "      <td>0.3</td>\n",
       "      <td>Pop</td>\n",
       "      <td>Rock; Pop; Electronica; Dance; J-Pop/J-Rock; G...</td>\n",
       "    </tr>\n",
       "    <tr>\n",
       "      <th>4</th>\n",
       "      <td>/10000-maniacs/</td>\n",
       "      <td>These Are Days</td>\n",
       "      <td>/10000-maniacs/these-are-days.html</td>\n",
       "      <td>These are. These are days you'll remember. Nev...</td>\n",
       "      <td>ENGLISH</td>\n",
       "      <td>10000 Maniacs</td>\n",
       "      <td>110</td>\n",
       "      <td>0.3</td>\n",
       "      <td>Rock</td>\n",
       "      <td>Rock; Pop; Electronica; Dance; J-Pop/J-Rock; G...</td>\n",
       "    </tr>\n",
       "  </tbody>\n",
       "</table>\n",
       "</div>"
      ],
      "text/plain": [
       "             ALink              SName                                  SLink  \\\n",
       "0  /10000-maniacs/     More Than This     /10000-maniacs/more-than-this.html   \n",
       "1  /10000-maniacs/     More Than This     /10000-maniacs/more-than-this.html   \n",
       "2  /10000-maniacs/  Because The Night  /10000-maniacs/because-the-night.html   \n",
       "3  /10000-maniacs/  Because The Night  /10000-maniacs/because-the-night.html   \n",
       "4  /10000-maniacs/     These Are Days     /10000-maniacs/these-are-days.html   \n",
       "\n",
       "                                               Lyric    Idiom         Artist  \\\n",
       "0  I could feel at the time. There was no way of ...  ENGLISH  10000 Maniacs   \n",
       "1  I could feel at the time. There was no way of ...  ENGLISH  10000 Maniacs   \n",
       "2  Take me now, baby, here as I am. Hold me close...  ENGLISH  10000 Maniacs   \n",
       "3  Take me now, baby, here as I am. Hold me close...  ENGLISH  10000 Maniacs   \n",
       "4  These are. These are days you'll remember. Nev...  ENGLISH  10000 Maniacs   \n",
       "\n",
       "   Songs  Popularity Genre                                             Genres  \n",
       "0    110         0.3  Rock  Rock; Pop; Electronica; Dance; J-Pop/J-Rock; G...  \n",
       "1    110         0.3   Pop  Rock; Pop; Electronica; Dance; J-Pop/J-Rock; G...  \n",
       "2    110         0.3  Rock  Rock; Pop; Electronica; Dance; J-Pop/J-Rock; G...  \n",
       "3    110         0.3   Pop  Rock; Pop; Electronica; Dance; J-Pop/J-Rock; G...  \n",
       "4    110         0.3  Rock  Rock; Pop; Electronica; Dance; J-Pop/J-Rock; G...  "
      ]
     },
     "execution_count": 9,
     "metadata": {},
     "output_type": "execute_result"
    }
   ],
   "source": [
    "## Merging both the dataframes based on a common link ALink\n",
    "df_merge = pd.merge(new_df_songlist,df_new,on = 'ALink')\n",
    "## Check for null values \n",
    "df_merge.isnull().sum()\n",
    "# Removal of null values\n",
    "df_merge.dropna(inplace = True) \n",
    "df_merge.isnull().sum()\n",
    "df_merge.head()"
   ]
  },
  {
   "cell_type": "markdown",
   "id": "f6d46c8d",
   "metadata": {
    "id": "27357142"
   },
   "source": [
    "## Unbalanced dataset"
   ]
  },
  {
   "cell_type": "code",
   "execution_count": 10,
   "id": "6f5b6712",
   "metadata": {
    "id": "91786db2"
   },
   "outputs": [],
   "source": [
    "GenreDF = df_merge.loc[:,['Genre','Lyric']]"
   ]
  },
  {
   "cell_type": "markdown",
   "id": "f1221ea7",
   "metadata": {
    "id": "Nfl4sPWVKsy-"
   },
   "source": [
    "### Make labels for all the Genres \n"
   ]
  },
  {
   "cell_type": "code",
   "execution_count": 11,
   "id": "51d7a2b8",
   "metadata": {
    "id": "ChcPWEYtK2VK"
   },
   "outputs": [
    {
     "data": {
      "text/plain": [
       "{'Rock': 0,\n",
       " 'Pop': 1,\n",
       " 'Hip Hop': 2,\n",
       " 'Sertanejo': 3,\n",
       " 'Funk Carioca': 4,\n",
       " 'Samba': 5}"
      ]
     },
     "execution_count": 11,
     "metadata": {},
     "output_type": "execute_result"
    }
   ],
   "source": [
    "possible_labels = GenreDF['Genre'].unique()\n",
    "\n",
    "label_dict = {}\n",
    "for index, possible_label in enumerate(possible_labels):\n",
    "    label_dict[possible_label] = index\n",
    "label_dict"
   ]
  },
  {
   "cell_type": "code",
   "execution_count": 12,
   "id": "b3268e54",
   "metadata": {
    "id": "_CrH1LLXLD-1"
   },
   "outputs": [],
   "source": [
    "GenreDF['label'] = GenreDF['Genre'].replace(label_dict)"
   ]
  },
  {
   "cell_type": "code",
   "execution_count": 13,
   "id": "0acded0a",
   "metadata": {
    "id": "c66c3ea8"
   },
   "outputs": [],
   "source": [
    "import re\n",
    "from sklearn.model_selection import train_test_split\n",
    "def format_str(str_):\n",
    "    str_ = re.sub('[|\\[\\]*.,!:?\\\"\\'«»]', '', str_)\n",
    "    str_ = re.sub('[-–——]+', ' ', str_)\n",
    "    str_ = str_.strip()\n",
    "    str_ = str_.lower()\n",
    "    return str_"
   ]
  },
  {
   "cell_type": "code",
   "execution_count": 14,
   "id": "0040f164",
   "metadata": {
    "id": "5cf1930d"
   },
   "outputs": [],
   "source": [
    "y = GenreDF['Genre']\n",
    "X = GenreDF['Lyric'].apply(format_str)"
   ]
  },
  {
   "cell_type": "code",
   "execution_count": 15,
   "id": "6cf1a958",
   "metadata": {
    "id": "de2608c8"
   },
   "outputs": [],
   "source": [
    "##Test train split\n",
    "# Use this as the baseline so only X_train1 and y_train1\n",
    "X_train, X_test, y_train, y_test = train_test_split(X, y, test_size=0.20, random_state=100)"
   ]
  },
  {
   "cell_type": "markdown",
   "id": "af4fec35",
   "metadata": {
    "id": "9b692eb7"
   },
   "source": [
    "## Balancing the datasets"
   ]
  },
  {
   "cell_type": "code",
   "execution_count": 16,
   "id": "6fbd237c",
   "metadata": {
    "id": "a6b4e72a"
   },
   "outputs": [
    {
     "data": {
      "image/png": "[encoded data removed]",
      "text/plain": [
       "<Figure size 432x288 with 1 Axes>"
      ]
     },
     "metadata": {
      "needs_background": "light"
     },
     "output_type": "display_data"
    }
   ],
   "source": [
    "Genres = GenreDF['Genre'].value_counts()\n",
    "ax = sns.countplot(x=\"Genre\", data=GenreDF).set(\n",
    "    title=\"Unbalanced\")\n",
    "# fig = ax.get_figure()\n",
    "# ax.figure.savefig('saveplot.png')"
   ]
  },
  {
   "cell_type": "markdown",
   "id": "36fccfb7",
   "metadata": {
    "id": "8aa43794"
   },
   "source": [
    "We see from the above given dataset tha the number of documents for Rock is much higher as compared to Pop and Hip hop.\n",
    "Further the number of documents are much higher than that of Funk Carioca,Seranejo and Samba.\n",
    "We are now going to choose the Number of songs in Samba and undersample the rest to balance the dataset to the limit of Samba.\n"
   ]
  },
  {
   "cell_type": "code",
   "execution_count": 17,
   "id": "4244a21e",
   "metadata": {
    "id": "9931a5d5"
   },
   "outputs": [],
   "source": [
    "Undersampled = []\n",
    "for i in GenreDF['Genre'].unique():\n",
    "    Undersampled.append(GenreDF[GenreDF['Genre']== i].sample(Genres.min()))\n",
    "Undersampleddf = pd.concat(Undersampled).sample(n=312).reset_index(drop = True)"
   ]
  },
  {
   "cell_type": "markdown",
   "id": "16dfb185",
   "metadata": {
    "id": "c21d1c76"
   },
   "source": [
    "The dataset is made ready with a balanced dataset with equal number of samples of each genre.\n",
    "The dataset is undersampled in order to get equal samples as the one in the genre with minimum samples."
   ]
  },
  {
   "cell_type": "code",
   "execution_count": 18,
   "id": "f8758770",
   "metadata": {
    "id": "gXQenmTj6jAW"
   },
   "outputs": [
    {
     "data": {
      "text/html": [
       "<div>\n",
       "<style scoped>\n",
       "    .dataframe tbody tr th:only-of-type {\n",
       "        vertical-align: middle;\n",
       "    }\n",
       "\n",
       "    .dataframe tbody tr th {\n",
       "        vertical-align: top;\n",
       "    }\n",
       "\n",
       "    .dataframe thead th {\n",
       "        text-align: right;\n",
       "    }\n",
       "</style>\n",
       "<table border=\"1\" class=\"dataframe\">\n",
       "  <thead>\n",
       "    <tr style=\"text-align: right;\">\n",
       "      <th></th>\n",
       "      <th>Genre</th>\n",
       "      <th>Lyric</th>\n",
       "      <th>label</th>\n",
       "    </tr>\n",
       "  </thead>\n",
       "  <tbody>\n",
       "    <tr>\n",
       "      <th>0</th>\n",
       "      <td>Sertanejo</td>\n",
       "      <td>Someone told me long ago. There's a calm befor...</td>\n",
       "      <td>3</td>\n",
       "    </tr>\n",
       "    <tr>\n",
       "      <th>1</th>\n",
       "      <td>Pop</td>\n",
       "      <td>It's me again your worthless friend or foe. I ...</td>\n",
       "      <td>1</td>\n",
       "    </tr>\n",
       "    <tr>\n",
       "      <th>2</th>\n",
       "      <td>Samba</td>\n",
       "      <td>Same bed, but it feels just a little bit bigge...</td>\n",
       "      <td>5</td>\n",
       "    </tr>\n",
       "    <tr>\n",
       "      <th>3</th>\n",
       "      <td>Samba</td>\n",
       "      <td>Over time. I've been building my castle of lov...</td>\n",
       "      <td>5</td>\n",
       "    </tr>\n",
       "    <tr>\n",
       "      <th>4</th>\n",
       "      <td>Sertanejo</td>\n",
       "      <td>Someone told me long ago. There's a calm befor...</td>\n",
       "      <td>3</td>\n",
       "    </tr>\n",
       "    <tr>\n",
       "      <th>...</th>\n",
       "      <td>...</td>\n",
       "      <td>...</td>\n",
       "      <td>...</td>\n",
       "    </tr>\n",
       "    <tr>\n",
       "      <th>307</th>\n",
       "      <td>Hip Hop</td>\n",
       "      <td>Shirts, tops, tees. I'm always in tight jeans....</td>\n",
       "      <td>2</td>\n",
       "    </tr>\n",
       "    <tr>\n",
       "      <th>308</th>\n",
       "      <td>Samba</td>\n",
       "      <td>Let's do the Copacabana. It's tropical people ...</td>\n",
       "      <td>5</td>\n",
       "    </tr>\n",
       "    <tr>\n",
       "      <th>309</th>\n",
       "      <td>Sertanejo</td>\n",
       "      <td>Let's go!. Don't wantcha for the weekend. Don'...</td>\n",
       "      <td>3</td>\n",
       "    </tr>\n",
       "    <tr>\n",
       "      <th>310</th>\n",
       "      <td>Funk Carioca</td>\n",
       "      <td>I stay out too late. got nothing in my brain. ...</td>\n",
       "      <td>4</td>\n",
       "    </tr>\n",
       "    <tr>\n",
       "      <th>311</th>\n",
       "      <td>Samba</td>\n",
       "      <td>Nobody ever loved me like she does. OOh, she d...</td>\n",
       "      <td>5</td>\n",
       "    </tr>\n",
       "  </tbody>\n",
       "</table>\n",
       "<p>312 rows × 3 columns</p>\n",
       "</div>"
      ],
      "text/plain": [
       "            Genre                                              Lyric  label\n",
       "0       Sertanejo  Someone told me long ago. There's a calm befor...      3\n",
       "1             Pop  It's me again your worthless friend or foe. I ...      1\n",
       "2           Samba  Same bed, but it feels just a little bit bigge...      5\n",
       "3           Samba  Over time. I've been building my castle of lov...      5\n",
       "4       Sertanejo  Someone told me long ago. There's a calm befor...      3\n",
       "..            ...                                                ...    ...\n",
       "307       Hip Hop  Shirts, tops, tees. I'm always in tight jeans....      2\n",
       "308         Samba  Let's do the Copacabana. It's tropical people ...      5\n",
       "309     Sertanejo  Let's go!. Don't wantcha for the weekend. Don'...      3\n",
       "310  Funk Carioca  I stay out too late. got nothing in my brain. ...      4\n",
       "311         Samba  Nobody ever loved me like she does. OOh, she d...      5\n",
       "\n",
       "[312 rows x 3 columns]"
      ]
     },
     "execution_count": 18,
     "metadata": {},
     "output_type": "execute_result"
    }
   ],
   "source": [
    "Undersampleddf"
   ]
  },
  {
   "cell_type": "code",
   "execution_count": 19,
   "id": "6b51df0c",
   "metadata": {
    "id": "79269fdb"
   },
   "outputs": [
    {
     "data": {
      "image/png": "[encoded data removed]",
      "text/plain": [
       "<Figure size 432x288 with 1 Axes>"
      ]
     },
     "metadata": {
      "needs_background": "light"
     },
     "output_type": "display_data"
    }
   ],
   "source": [
    "Undersampleddf\n",
    "GenresUS = Undersampleddf['Genre'].value_counts()\n",
    "ax = sns.countplot(x=\"Genre\", data=Undersampleddf).set(\n",
    "    title=\"Balanced\")\n",
    "# GenresUS\n",
    "# ax.figure.saveplot('abc.png')"
   ]
  },
  {
   "cell_type": "code",
   "execution_count": 20,
   "id": "b4e30347",
   "metadata": {
    "id": "e54481ff"
   },
   "outputs": [],
   "source": [
    "X_under = Undersampleddf['Lyric'].apply(format_str)\n",
    "y_under = Undersampleddf['Genre']"
   ]
  },
  {
   "cell_type": "code",
   "execution_count": 21,
   "id": "3faeb663",
   "metadata": {
    "id": "4eaf86cc"
   },
   "outputs": [],
   "source": [
    "### Test Train split unbalanced\n",
    "X_trainUS, X_testUS, y_trainUS, y_testUS = train_test_split(X_under, y_under, test_size=0.30, random_state=100)"
   ]
  },
  {
   "cell_type": "markdown",
   "id": "bc08b025",
   "metadata": {
    "id": "cebf782b"
   },
   "source": [
    "### Wordcloud depiction of each Genre"
   ]
  },
  {
   "cell_type": "code",
   "execution_count": 22,
   "id": "c8df1f78",
   "metadata": {
    "id": "b6wXCys_jfPo"
   },
   "outputs": [],
   "source": [
    "from wordcloud import WordCloud, STOPWORDS, ImageColorGenerator"
   ]
  },
  {
   "cell_type": "code",
   "execution_count": 23,
   "id": "0c9013f0",
   "metadata": {
    "id": "9842ba6f",
    "scrolled": false
   },
   "outputs": [],
   "source": [
    "# undersampled = {}\n",
    "# for i in GenreDF['Genre'].unique():\n",
    "#     undersampled[i]=GenreDF[GenreDF['Genre']== i]\n",
    "# # wordcloud = {}\n",
    "\n",
    "# for i in GenreDF['Genre'].unique():\n",
    "#     a = undersampled[i].groupby('Genre')['Lyric'].apply(' '.join).reset_index()\n",
    "#     wordcloud = WordCloud().generate(a['Lyric'][0])\n",
    "#     plt.figure(figsize=(10,5))\n",
    "#     plt.imshow(wordcloud, interpolation='bilinear')\n",
    "#     plt.axis(\"off\") \n",
    "#     plt.title(label = i,fontsize=20,color='Black')\n",
    "    \n",
    "# plt.show()\n",
    "# plt.savefig('/content/drive/MyDrive/SongClassification[Genre,Lyrics]/archive/WordCloud.png')"
   ]
  },
  {
   "cell_type": "code",
   "execution_count": 24,
   "id": "bb6588fe",
   "metadata": {
    "id": "0MzcJvLqs3GV"
   },
   "outputs": [],
   "source": [
    "# #  Categorical Data\n",
    "# a = 2  # number of rows\n",
    "# b = 3  # number of columns\n",
    "# c = 1  # initialize plot counter\n",
    "\n",
    "# fig = plt.figure(figsize=(40,15))\n",
    "# for i in GenreDF['Genre'].unique():\n",
    "#     plt.subplot(a, b, c)\n",
    "#     plt.title('{}, subplot: {}{}{}'.format(i, a, b, c))\n",
    "#     plt.xlabel(i)\n",
    "#     cloud = Undersampled[i].groupby('Genre')['Lyric'].apply(' '.join).reset_index()\n",
    "#     wordcloud = WordCloud().generate(cloud['Lyric'][0])\n",
    "#     # plt.figure(figsize=(30,15))\n",
    "#     plt.imshow(wordcloud, interpolation='bilinear')\n",
    "#     plt.axis(\"off\") \n",
    "#     plt.title(label = i,fontsize=20,color='Black')\n",
    "#     # sns.countplot(df[i])\n",
    "#     c = c + 1\n",
    "# plt.show()\n",
    "# # for i in heart_CAT:\n",
    "# #     plt.subplot(a, b, c)\n",
    "# #     plt.title('{}, subplot: {}{}{}'.format(i, a, b, c))\n",
    "# #     plt.xlabel(i)\n",
    "# #     sns.countplot(df[i])\n",
    "# #     c = c + 1\n",
    "\n",
    "# plt.show()\n",
    "# plt.savefig('/content/drive/MyDrive/SongClassification[Genre,Lyrics]/archive/WordCloud.png')"
   ]
  },
  {
   "cell_type": "markdown",
   "id": "e50c534a",
   "metadata": {
    "id": "db31589b"
   },
   "source": [
    "### Stopwords"
   ]
  },
  {
   "cell_type": "markdown",
   "id": "6778f817",
   "metadata": {
    "id": "039252f9"
   },
   "source": [
    "If we are running Tf-idf vectorizer then addition of stop words would not be a big problem as tf-idf take s the inverse rate in whcih all the frequently occuring words are given a lower score as comparted to the words that occur less frequently.\n",
    "Hence for each genre we will have words that are speific inclined to that genre.\n"
   ]
  },
  {
   "cell_type": "markdown",
   "id": "1623c0fd",
   "metadata": {
    "id": "13bb5936"
   },
   "source": [
    "### Tokenization using spacy\n",
    "\n",
    "The next step is to tokenize using spacy's inbuilt tokenizer.\n",
    "We would need to add the above stop words to spacy's tokenizer as well."
   ]
  },
  {
   "cell_type": "code",
   "execution_count": 25,
   "id": "02ba8dee",
   "metadata": {
    "id": "fdaa9382"
   },
   "outputs": [],
   "source": [
    "####Import the spacy small library\n",
    "\n",
    "nlp = spacy.load(\"en_core_web_sm\")\n",
    "# nlp.Defaults.stop_words |= {'love','know','oh'}\n"
   ]
  },
  {
   "cell_type": "code",
   "execution_count": 26,
   "id": "a87ad67e",
   "metadata": {
    "id": "ee89d580"
   },
   "outputs": [],
   "source": [
    "##Check all the stop words in spacy\n",
    "# all_stopwords = nlp.Defaults.stop_words"
   ]
  },
  {
   "cell_type": "code",
   "execution_count": 27,
   "id": "91d1eb0b",
   "metadata": {
    "id": "881dbe39"
   },
   "outputs": [],
   "source": [
    "##This is to sentencise each of the document\n",
    "# sbd = nlp.create_pipe()\n",
    "# nlp.add_pipe('sentencizer')\n",
    "# doc = nlp(text)\n",
    "# sents_list = []\n",
    "# for sent in doc.sents:\n",
    "#     sents_list.append(sent.text)\n",
    "# print(sents_list)"
   ]
  },
  {
   "cell_type": "code",
   "execution_count": 28,
   "id": "c003c195",
   "metadata": {
    "id": "7771c545"
   },
   "outputs": [],
   "source": [
    "# Function to preprocess the data (Remove stop words,Lemmatize adn check for alphabhets only in given documents)\n",
    "def preprocess2(text):\n",
    "    doc = nlp(text)\n",
    "    return[words.lemma_.lower() for words in doc if words.is_alpha] \n",
    "# return[words.lemma_.lower() for words in doc if words.is_alpha and not words.is_stop] "
   ]
  },
  {
   "cell_type": "markdown",
   "id": "cabd8785",
   "metadata": {
    "id": "a34ea2d6"
   },
   "source": [
    "## Tf-Idf vectorization\n",
    "\n",
    "The reason we choose Tf-idf vectorization is because we have a lot of repeated words which do not contribute to the classification of the genre so Tf-idf takes the inverse log giving more weight to the words which are less frequently used and less weightage to the words that are frequently used.\n"
   ]
  },
  {
   "cell_type": "code",
   "execution_count": 29,
   "id": "cf6e542a",
   "metadata": {
    "id": "a49e015b"
   },
   "outputs": [
    {
     "name": "stdout",
     "output_type": "stream",
     "text": [
      "Wall time: 0 ns\n"
     ]
    }
   ],
   "source": [
    "%%time\n",
    "##Tf-idf Vectoriser\n",
    "vectorizer = TfidfVectorizer(tokenizer=preprocess2,stop_words='english',use_idf=True, \n",
    "                             smooth_idf=True)\n"
   ]
  },
  {
   "cell_type": "code",
   "execution_count": 30,
   "id": "3ff3b687",
   "metadata": {
    "id": "2f8fc2e7"
   },
   "outputs": [
    {
     "name": "stdout",
     "output_type": "stream",
     "text": [
      "Wall time: 0 ns\n"
     ]
    }
   ],
   "source": [
    "%%time\n",
    "# X_train_text = vectorizer.fit_transform(X_train)\n",
    "# X_test_text = vectorizer.transform(X_test)"
   ]
  },
  {
   "cell_type": "code",
   "execution_count": 31,
   "id": "e665a928",
   "metadata": {
    "id": "6f64eff2"
   },
   "outputs": [
    {
     "name": "stderr",
     "output_type": "stream",
     "text": [
      "D:\\Anaconda\\envs\\gpu_access\\lib\\site-packages\\sklearn\\feature_extraction\\text.py:391: UserWarning: Your stop_words may be inconsistent with your preprocessing. Tokenizing the stop words generated tokens ['ca', 'far', 'make', 'nt'] not in stop_words.\n",
      "  'stop_words.' % sorted(inconsistent))\n"
     ]
    },
    {
     "name": "stdout",
     "output_type": "stream",
     "text": [
      "Wall time: 12.9 s\n"
     ]
    }
   ],
   "source": [
    "%%time\n",
    "X_train_textUS = vectorizer.fit_transform(X_trainUS)\n",
    "X_test_textUS = vectorizer.transform(X_testUS)"
   ]
  },
  {
   "cell_type": "code",
   "execution_count": 32,
   "id": "55875175",
   "metadata": {
    "id": "yd0vtN3Z4kG2"
   },
   "outputs": [],
   "source": [
    "from gensim.test.utils import common_texts\n",
    "from gensim.models import Word2Vec"
   ]
  },
  {
   "cell_type": "code",
   "execution_count": 33,
   "id": "30f1194f",
   "metadata": {
    "id": "cYErNeGS4kQ4"
   },
   "outputs": [
    {
     "name": "stdout",
     "output_type": "stream",
     "text": [
      "Wall time: 0 ns\n"
     ]
    }
   ],
   "source": [
    "\n",
    "%%time\n",
    "##Tf-idf Vectoriser\n",
    "# vectorizer2 = Word2Vec(sentences=X_train)"
   ]
  },
  {
   "cell_type": "code",
   "execution_count": 34,
   "id": "7ec607ba",
   "metadata": {
    "id": "2-rT_fhH7jQS"
   },
   "outputs": [],
   "source": [
    "# vectorizer2.most_similar['rock']"
   ]
  },
  {
   "cell_type": "markdown",
   "id": "f146f161",
   "metadata": {
    "id": "3b06dafd"
   },
   "source": [
    "### Dimensionality reduction using LSA\n",
    "\n",
    "Topic models are built around the idea that the semantics of our document are actually being governed by some hidden, or topics that shape the meaning of our document and corpus. <br>LSA along with SVD can help with topic modelling on a text corpus."
   ]
  },
  {
   "cell_type": "code",
   "execution_count": 35,
   "id": "473a1f66",
   "metadata": {
    "id": "b0f0495e"
   },
   "outputs": [],
   "source": [
    "from sklearn.decomposition import TruncatedSVD\n",
    "from sklearn.pipeline import Pipeline\n",
    "from sklearn.preprocessing import normalize"
   ]
  },
  {
   "cell_type": "code",
   "execution_count": 36,
   "id": "9c41e3c2",
   "metadata": {
    "id": "0a47698d"
   },
   "outputs": [],
   "source": [
    "#SVD for dimensionality reduction\n",
    "svd_model = TruncatedSVD(n_components=100,algorithm='randomized',n_iter=10)"
   ]
  },
  {
   "cell_type": "code",
   "execution_count": 37,
   "id": "cb8cdf67",
   "metadata": {
    "id": "88e03fed"
   },
   "outputs": [],
   "source": [
    "SVD_transformer = Pipeline([('tfidf', vectorizer), \n",
    "                            ('svd', svd_model)])\n",
    "# SVD_matrix = SVD_transformer.fit_transform(X_train)"
   ]
  },
  {
   "cell_type": "code",
   "execution_count": 38,
   "id": "fce143f7",
   "metadata": {
    "id": "5cd4fad2"
   },
   "outputs": [
    {
     "name": "stdout",
     "output_type": "stream",
     "text": [
      "Wall time: 0 ns\n"
     ]
    }
   ],
   "source": [
    "%%time \n",
    "## Transforming test \n",
    "# SVD_matrix_test = SVD_transformer.transform(X_test)"
   ]
  },
  {
   "cell_type": "code",
   "execution_count": 39,
   "id": "6589bad4",
   "metadata": {
    "id": "25ed5fbb"
   },
   "outputs": [
    {
     "name": "stdout",
     "output_type": "stream",
     "text": [
      "Wall time: 11.3 s\n"
     ]
    }
   ],
   "source": [
    "%%time \n",
    "SVD_matrixUS = SVD_transformer.fit_transform(X_trainUS)\n",
    "## Transforming test \n",
    "SVD_matrix_testUS = SVD_transformer.transform(X_testUS)"
   ]
  },
  {
   "cell_type": "markdown",
   "id": "05619ec2",
   "metadata": {
    "id": "3b8ed6db"
   },
   "source": [
    "## Train LogisticClassifier"
   ]
  },
  {
   "cell_type": "code",
   "execution_count": 40,
   "id": "dcc82762",
   "metadata": {
    "id": "23e0d40c"
   },
   "outputs": [],
   "source": [
    "# %%time\n",
    "# logit = LogisticRegression(C=5e1, solver='lbfgs', multi_class='multinomial', random_state=17, n_jobs=4)\n",
    "# logit.fit(X_train_text, y_train)"
   ]
  },
  {
   "cell_type": "code",
   "execution_count": 41,
   "id": "0c91225f",
   "metadata": {
    "id": "c5ace628"
   },
   "outputs": [],
   "source": [
    "# %%time\n",
    "# logit2 = LogisticRegression(C=5e1, solver='lbfgs', multi_class='multinomial', random_state=17, n_jobs=4)\n",
    "# logit2.fit(SVD_matrix, y_train)"
   ]
  },
  {
   "cell_type": "code",
   "execution_count": 42,
   "id": "8497f0a6",
   "metadata": {
    "id": "4f071f40"
   },
   "outputs": [
    {
     "name": "stdout",
     "output_type": "stream",
     "text": [
      "Wall time: 1.5 s\n"
     ]
    },
    {
     "data": {
      "text/plain": [
       "LogisticRegression(C=50.0, multi_class='multinomial', n_jobs=4, random_state=17)"
      ]
     },
     "execution_count": 42,
     "metadata": {},
     "output_type": "execute_result"
    }
   ],
   "source": [
    "%%time\n",
    "logit3 = LogisticRegression(C=5e1, solver='lbfgs', multi_class='multinomial', random_state=17, n_jobs=4)\n",
    "logit3.fit(X_train_textUS, y_trainUS)"
   ]
  },
  {
   "cell_type": "code",
   "execution_count": 43,
   "id": "dff81058",
   "metadata": {
    "id": "b5cf8533"
   },
   "outputs": [
    {
     "name": "stdout",
     "output_type": "stream",
     "text": [
      "Wall time: 798 ms\n"
     ]
    },
    {
     "data": {
      "text/plain": [
       "LogisticRegression(C=50.0, multi_class='multinomial', n_jobs=4, random_state=17)"
      ]
     },
     "execution_count": 43,
     "metadata": {},
     "output_type": "execute_result"
    }
   ],
   "source": [
    "%%time\n",
    "logit4 = LogisticRegression(C=5e1, solver='lbfgs', multi_class='multinomial', random_state=17, n_jobs=4)\n",
    "logit4.fit(SVD_matrixUS, y_trainUS)"
   ]
  },
  {
   "cell_type": "markdown",
   "id": "930756e3",
   "metadata": {
    "id": "bbb5c709"
   },
   "source": [
    "### Logistic Regression CV"
   ]
  },
  {
   "cell_type": "code",
   "execution_count": 44,
   "id": "6e410125",
   "metadata": {
    "id": "6ca9c270"
   },
   "outputs": [],
   "source": [
    "# skf = StratifiedKFold(n_splits=5, shuffle=True, random_state=17)"
   ]
  },
  {
   "cell_type": "code",
   "execution_count": 45,
   "id": "ba7cf0a6",
   "metadata": {
    "id": "5ce61bfb"
   },
   "outputs": [],
   "source": [
    "# %%time\n",
    "# cv_results = cross_val_score(logit, X_train_text, y_train, cv=skf, scoring='f1_micro')"
   ]
  },
  {
   "cell_type": "code",
   "execution_count": 46,
   "id": "47297f2a",
   "metadata": {
    "id": "213056ea"
   },
   "outputs": [],
   "source": [
    "# cv_results, cv_results.mean()"
   ]
  },
  {
   "cell_type": "markdown",
   "id": "603d9867",
   "metadata": {
    "id": "17711539"
   },
   "source": [
    "## Inference for K Fold crossvalidation\n",
    "\n",
    "Using K-fold cross validation with k=5 we get the the validation score of each of the k set close to .50.\n",
    "By this analogy we can go ahead with the train test split."
   ]
  },
  {
   "cell_type": "markdown",
   "id": "ee67cae2",
   "metadata": {
    "id": "1cedfe50"
   },
   "source": [
    "## Cross Validation Under sampled"
   ]
  },
  {
   "cell_type": "code",
   "execution_count": 47,
   "id": "72443b09",
   "metadata": {
    "id": "866d9797"
   },
   "outputs": [],
   "source": [
    "skf = StratifiedKFold(n_splits=5, shuffle=True, random_state=17)"
   ]
  },
  {
   "cell_type": "code",
   "execution_count": 48,
   "id": "cf19c601",
   "metadata": {
    "id": "05880096"
   },
   "outputs": [
    {
     "name": "stdout",
     "output_type": "stream",
     "text": [
      "Wall time: 2.64 s\n"
     ]
    }
   ],
   "source": [
    "%%time\n",
    "cv_results = cross_val_score(logit3, X_train_textUS, y_trainUS, cv=skf, scoring='f1_micro')"
   ]
  },
  {
   "cell_type": "code",
   "execution_count": 49,
   "id": "3cda3c61",
   "metadata": {
    "id": "7a9150a3"
   },
   "outputs": [
    {
     "data": {
      "text/plain": [
       "(array([0.52272727, 0.43181818, 0.47727273, 0.48837209, 0.34883721]),\n",
       " 0.45380549682875265)"
      ]
     },
     "execution_count": 49,
     "metadata": {},
     "output_type": "execute_result"
    }
   ],
   "source": [
    "cv_results, cv_results.mean()"
   ]
  },
  {
   "cell_type": "markdown",
   "id": "51fdbec7",
   "metadata": {
    "id": "aeca4cfc"
   },
   "source": [
    "## Inference\n",
    "\n",
    "It is observed that after undersampling we the data and running it on unseen data we get a lower score.This could be because the previous data was very imbalanced and biased."
   ]
  },
  {
   "cell_type": "markdown",
   "id": "0f72e425",
   "metadata": {
    "id": "85ffa0df"
   },
   "source": [
    "### Test Logistic regression"
   ]
  },
  {
   "cell_type": "code",
   "execution_count": 50,
   "id": "7bb6790f",
   "metadata": {
    "id": "c04ef192"
   },
   "outputs": [],
   "source": [
    "# logit.score(X_test_text,y_test)"
   ]
  },
  {
   "cell_type": "code",
   "execution_count": 51,
   "id": "c98c7154",
   "metadata": {
    "id": "528d75cc"
   },
   "outputs": [],
   "source": [
    "##LSA\n",
    "# logit2.score(SVD_matrix_test,y_test)"
   ]
  },
  {
   "cell_type": "code",
   "execution_count": 52,
   "id": "e2eb36fb",
   "metadata": {
    "id": "6f715eaa"
   },
   "outputs": [
    {
     "data": {
      "text/plain": [
       "0.43617021276595747"
      ]
     },
     "execution_count": 52,
     "metadata": {},
     "output_type": "execute_result"
    }
   ],
   "source": [
    "logit3.score(X_test_textUS,y_testUS)"
   ]
  },
  {
   "cell_type": "code",
   "execution_count": 53,
   "id": "327e6a2f",
   "metadata": {
    "id": "b645a250"
   },
   "outputs": [
    {
     "data": {
      "text/plain": [
       "0.46808510638297873"
      ]
     },
     "execution_count": 53,
     "metadata": {},
     "output_type": "execute_result"
    }
   ],
   "source": [
    "logit4.score(SVD_matrix_testUS,y_testUS)"
   ]
  },
  {
   "cell_type": "markdown",
   "id": "4c49c3c6",
   "metadata": {
    "id": "d1f91ff1"
   },
   "source": [
    "### Inference \n",
    "\n",
    "From using SVD we seem to be getting a lower score as compared to simple tf-idf-vectorization.\n"
   ]
  },
  {
   "cell_type": "code",
   "execution_count": 54,
   "id": "718bf526",
   "metadata": {
    "id": "237cc65a"
   },
   "outputs": [],
   "source": [
    "# categories = y_test.unique()\n",
    "# cm = confusion_matrix(logit.predict(X_test_text),y_test)\n",
    "# make_confusion_matrix(cm,categories = categories)"
   ]
  },
  {
   "cell_type": "code",
   "execution_count": 55,
   "id": "441ccabb",
   "metadata": {
    "id": "2fa36d36"
   },
   "outputs": [],
   "source": [
    "# cm = confusion_matrix(logit2.predict(SVD_matrix_test),y_test)\n",
    "# make_confusion_matrix(cm,categories = categories)\n",
    "from sklearn.metrics import confusion_matrix"
   ]
  },
  {
   "cell_type": "code",
   "execution_count": 56,
   "id": "52060dd2",
   "metadata": {
    "id": "D8N-ciso1gdK"
   },
   "outputs": [],
   "source": [
    "\n",
    "result_dict= {'LR':precision_recall_fscore_support(y_testUS, logit3.predict(X_test_textUS), average='weighted'),'LR_LSA': precision_recall_fscore_support(y_testUS, logit4.predict(SVD_matrix_testUS), average='weighted') }\n",
    "# precision_recall_fscore_support(y_testUS, logit3.predict(X_test_textUS), average='macro')\n",
    "# precision_recall_fscore_support(y_testUS, logit4.predict(SVD_matrix_testUS), average='macro')"
   ]
  },
  {
   "cell_type": "code",
   "execution_count": 57,
   "id": "bd673df9",
   "metadata": {
    "id": "P7QkwlWFwf1g"
   },
   "outputs": [
    {
     "data": {
      "text/plain": [
       "{'LR': (0.4725600510253201, 0.43617021276595747, 0.42257361170367347, None),\n",
       " 'LR_LSA': (0.535044485190062, 0.46808510638297873, 0.45007872744155997, None)}"
      ]
     },
     "execution_count": 57,
     "metadata": {},
     "output_type": "execute_result"
    }
   ],
   "source": [
    "result_dict"
   ]
  },
  {
   "cell_type": "code",
   "execution_count": 58,
   "id": "3f0058c7",
   "metadata": {
    "id": "e0c714f1"
   },
   "outputs": [
    {
     "data": {
      "image/png": "[encoded data removed]",
      "text/plain": [
       "<Figure size 432x288 with 2 Axes>"
      ]
     },
     "metadata": {
      "needs_background": "light"
     },
     "output_type": "display_data"
    }
   ],
   "source": [
    "# from google.colab import files\n",
    "categories = y_testUS.unique()\n",
    "cm = confusion_matrix(logit3.predict(X_test_textUS),y_testUS)\n",
    "m = make_confusion_matrix(cm,categories = categories)\n",
    "plt.title('Logistic Regression')\n",
    "# plt.tight_layout()\n",
    "plt.savefig('CF1.png',bbox_inches='tight')\n",
    "# files.download('/archive/CF1.png') "
   ]
  },
  {
   "cell_type": "code",
   "execution_count": 59,
   "id": "8327f1f1",
   "metadata": {
    "id": "DZ9v3r-C162u"
   },
   "outputs": [
    {
     "data": {
      "text/plain": [
       "(0.49263999158736, 0.48658645276292334, 0.45204005355808013, None)"
      ]
     },
     "execution_count": 59,
     "metadata": {},
     "output_type": "execute_result"
    }
   ],
   "source": [
    "precision_recall_fscore_support(y_testUS, logit4.predict(SVD_matrix_testUS), average='macro')"
   ]
  },
  {
   "cell_type": "code",
   "execution_count": 60,
   "id": "f75dff56",
   "metadata": {
    "id": "9bf98a70"
   },
   "outputs": [
    {
     "data": {
      "image/png": "[encoded data removed]",
      "text/plain": [
       "<Figure size 432x288 with 2 Axes>"
      ]
     },
     "metadata": {
      "needs_background": "light"
     },
     "output_type": "display_data"
    }
   ],
   "source": [
    "# from google.colab import files\n",
    "cm = confusion_matrix(logit4.predict(SVD_matrix_testUS),y_testUS)\n",
    "make_confusion_matrix(cm,categories = categories)\n",
    "plt.title('Logistic Regression LSA')\n",
    "plt.savefig('CF2.png',bbox_inches='tight')\n",
    "# files.download('/content/drive/MyDrive/SongClassification[Genre,Lyrics]/archive/CF2.png') "
   ]
  },
  {
   "cell_type": "markdown",
   "id": "fc69eea4",
   "metadata": {
    "id": "13a83bfd"
   },
   "source": [
    "We do not notice Samba in the imbalaced dataset as it is the least in number.\n",
    "It is present in the balanced dataset.\n",
    "In the imbalanced dataset there is a large number of songs belonging to rock,Hip-Hop and Funk Carioca  which is why is there it\n",
    "shows a higher accuracy as compared to the others.\n",
    "Using the Latent semanic analysis we have increased the accuracy of by a very small percentage."
   ]
  },
  {
   "cell_type": "markdown",
   "id": "836d29de",
   "metadata": {
    "id": "0eb025bf"
   },
   "source": [
    "## Train using Naive Bayes Multinomial"
   ]
  },
  {
   "cell_type": "code",
   "execution_count": 61,
   "id": "a05c30f5",
   "metadata": {
    "id": "8ad41729"
   },
   "outputs": [],
   "source": [
    "from sklearn.naive_bayes import GaussianNB\n",
    "from sklearn.naive_bayes import MultinomialNB    \n",
    "from sklearn.naive_bayes import CategoricalNB"
   ]
  },
  {
   "cell_type": "code",
   "execution_count": 62,
   "id": "242a03cf",
   "metadata": {
    "id": "da946185"
   },
   "outputs": [],
   "source": [
    "# XNB = normalize(svd_matrix, norm='l2', axis=1, copy=True, return_norm=True)\n",
    "# XNBUS = normalize(SVD_matrixUS, norm='l2', axis=1, copy=True, return_norm=True)"
   ]
  },
  {
   "cell_type": "code",
   "execution_count": 63,
   "id": "0d6d9404",
   "metadata": {
    "id": "a6492c4b"
   },
   "outputs": [
    {
     "name": "stdout",
     "output_type": "stream",
     "text": [
      "Wall time: 0 ns\n"
     ]
    }
   ],
   "source": [
    "%%time\n",
    "nbclfGNB = GaussianNB()\n",
    "nbclfMNB = MultinomialNB()\n",
    "nbclfCNB = CategoricalNB()"
   ]
  },
  {
   "cell_type": "code",
   "execution_count": 64,
   "id": "b763080c",
   "metadata": {
    "id": "01284174"
   },
   "outputs": [
    {
     "data": {
      "text/plain": [
       "GaussianNB()"
      ]
     },
     "execution_count": 64,
     "metadata": {},
     "output_type": "execute_result"
    }
   ],
   "source": [
    "nbclfGNB.fit(X_train_textUS.toarray(), y_trainUS)"
   ]
  },
  {
   "cell_type": "code",
   "execution_count": 65,
   "id": "9db2ef5a",
   "metadata": {
    "id": "NkIBfup3Lhfi"
   },
   "outputs": [
    {
     "data": {
      "text/plain": [
       "0.3191489361702128"
      ]
     },
     "execution_count": 65,
     "metadata": {},
     "output_type": "execute_result"
    }
   ],
   "source": [
    "nbclfGNB.score(X_test_textUS.toarray(),y_testUS)"
   ]
  },
  {
   "cell_type": "code",
   "execution_count": 66,
   "id": "69106447",
   "metadata": {
    "id": "ba01dc3c"
   },
   "outputs": [
    {
     "data": {
      "text/plain": [
       "MultinomialNB()"
      ]
     },
     "execution_count": 66,
     "metadata": {},
     "output_type": "execute_result"
    }
   ],
   "source": [
    "nbclfMNB.fit(X_train_textUS, y_trainUS)"
   ]
  },
  {
   "cell_type": "code",
   "execution_count": 67,
   "id": "15aa9915",
   "metadata": {
    "id": "e8f970ca"
   },
   "outputs": [
    {
     "data": {
      "image/png": "[encoded data removed]",
      "text/plain": [
       "<Figure size 432x288 with 2 Axes>"
      ]
     },
     "metadata": {
      "needs_background": "light"
     },
     "output_type": "display_data"
    }
   ],
   "source": [
    "categories = y_train.unique()\n",
    "cm = confusion_matrix(nbclfGNB.predict(X_test_textUS.toarray()),y_testUS)\n",
    "make_confusion_matrix(cm,categories = categories)\n",
    "plt.title('Gaussian Naive Bayes')\n",
    "plt.savefig('CF3.png',bbox_inches='tight')\n",
    "# files.download('/content/drive/MyDrive/SongClassification[Genre,Lyrics]/archive/CF3.png') "
   ]
  },
  {
   "cell_type": "code",
   "execution_count": 68,
   "id": "9db8202a",
   "metadata": {
    "id": "4LtdOFRYMLMy"
   },
   "outputs": [
    {
     "data": {
      "image/png": "[encoded data removed]",
      "text/plain": [
       "<Figure size 432x288 with 2 Axes>"
      ]
     },
     "metadata": {
      "needs_background": "light"
     },
     "output_type": "display_data"
    }
   ],
   "source": [
    "categories = y_train.unique()\n",
    "cm = confusion_matrix(nbclfMNB.predict(X_test_textUS.toarray()),y_testUS)\n",
    "make_confusion_matrix(cm,categories = categories)\n",
    "plt.title('Multinomial Naive Bayes')\n",
    "plt.savefig('CF4.png',bbox_inches='tight')\n",
    "# files.download('/content/drive/MyDrive/SongClassification[Genre,Lyrics]/archive/CF4.png') "
   ]
  },
  {
   "cell_type": "markdown",
   "id": "197e51c6",
   "metadata": {
    "id": "fd2e889d"
   },
   "source": [
    "## Test NaiveBayes"
   ]
  },
  {
   "cell_type": "code",
   "execution_count": 69,
   "id": "d99cb86f",
   "metadata": {
    "id": "9f7e30c7"
   },
   "outputs": [
    {
     "data": {
      "text/plain": [
       "0.3191489361702128"
      ]
     },
     "execution_count": 69,
     "metadata": {},
     "output_type": "execute_result"
    }
   ],
   "source": [
    "nbclfGNB.score(X_test_textUS.toarray(),y_testUS)"
   ]
  },
  {
   "cell_type": "code",
   "execution_count": 70,
   "id": "1b031821",
   "metadata": {
    "id": "498a13ab"
   },
   "outputs": [
    {
     "data": {
      "text/plain": [
       "0.2872340425531915"
      ]
     },
     "execution_count": 70,
     "metadata": {},
     "output_type": "execute_result"
    }
   ],
   "source": [
    "nbclfMNB.score(X_test_textUS,y_testUS)"
   ]
  },
  {
   "cell_type": "code",
   "execution_count": 71,
   "id": "9971ec38",
   "metadata": {
    "id": "fZtbPjdWS4Su"
   },
   "outputs": [
    {
     "name": "stderr",
     "output_type": "stream",
     "text": [
      "D:\\Anaconda\\envs\\gpu_access\\lib\\site-packages\\sklearn\\metrics\\_classification.py:1245: UndefinedMetricWarning: Precision and F-score are ill-defined and being set to 0.0 in labels with no predicted samples. Use `zero_division` parameter to control this behavior.\n",
      "  _warn_prf(average, modifier, msg_start, len(result))\n"
     ]
    }
   ],
   "source": [
    "result_dict['NB_Gaussian'] = precision_recall_fscore_support(y_testUS, nbclfGNB.predict(X_test_textUS.toarray()),average='macro')\n",
    "result_dict['NB_Mulinomial']=precision_recall_fscore_support(y_testUS, nbclfMNB.predict(X_test_textUS),average='macro')"
   ]
  },
  {
   "cell_type": "markdown",
   "id": "0a73475f",
   "metadata": {
    "id": "0a82d6ea"
   },
   "source": [
    "## RandomForest Classifier"
   ]
  },
  {
   "cell_type": "code",
   "execution_count": 72,
   "id": "ceff1362",
   "metadata": {
    "id": "027e1f01"
   },
   "outputs": [],
   "source": [
    "from sklearn.ensemble import RandomForestClassifier"
   ]
  },
  {
   "cell_type": "code",
   "execution_count": 73,
   "id": "7a0e0ffa",
   "metadata": {
    "id": "2c003d13"
   },
   "outputs": [],
   "source": [
    "rfclf = RandomForestClassifier(random_state=42)"
   ]
  },
  {
   "cell_type": "code",
   "execution_count": 74,
   "id": "76367576",
   "metadata": {
    "id": "3cc25d91"
   },
   "outputs": [
    {
     "data": {
      "text/plain": [
       "RandomForestClassifier(random_state=42)"
      ]
     },
     "execution_count": 74,
     "metadata": {},
     "output_type": "execute_result"
    }
   ],
   "source": [
    "rfclf.fit(X_train_textUS, y_trainUS)"
   ]
  },
  {
   "cell_type": "code",
   "execution_count": 75,
   "id": "dddd0bbd",
   "metadata": {
    "id": "205109ca"
   },
   "outputs": [
    {
     "data": {
      "text/plain": [
       "0.425531914893617"
      ]
     },
     "execution_count": 75,
     "metadata": {},
     "output_type": "execute_result"
    }
   ],
   "source": [
    "rfclf.score(X_test_textUS,y_testUS)"
   ]
  },
  {
   "cell_type": "code",
   "execution_count": 76,
   "id": "f11e4cfc",
   "metadata": {
    "id": "kRUHbTxqVsnr"
   },
   "outputs": [
    {
     "data": {
      "image/png": "[encoded data removed]",
      "text/plain": [
       "<Figure size 432x288 with 2 Axes>"
      ]
     },
     "metadata": {
      "needs_background": "light"
     },
     "output_type": "display_data"
    }
   ],
   "source": [
    "cm = confusion_matrix(rfclf.predict(X_test_textUS),y_testUS)\n",
    "make_confusion_matrix(cm,categories = categories)\n",
    "plt.title('RandomForest DefaultParams')\n",
    "plt.savefig('CF5.png',bbox_inches='tight')\n",
    "# files.download('/content/drive/MyDrive/SongClassification[Genre,Lyrics]/archive/CF5.png') "
   ]
  },
  {
   "cell_type": "markdown",
   "id": "ebd0de53",
   "metadata": {
    "id": "44f07070"
   },
   "source": [
    "RandomForest with a default parameters are giving a score of .30 . A better model can be achieved by hyper tuning these parameters.A grid search CV can be implemented in order to find the best estimates."
   ]
  },
  {
   "cell_type": "markdown",
   "id": "076d2956",
   "metadata": {
    "id": "3300ad24"
   },
   "source": [
    "#### Fine-Tuning Parameters :\n",
    "    "
   ]
  },
  {
   "cell_type": "code",
   "execution_count": 77,
   "id": "60194f6a",
   "metadata": {
    "id": "V64qWS3CWsfq"
   },
   "outputs": [],
   "source": [
    "from sklearn.model_selection import GridSearchCV\n",
    "# Create the parameter grid based on the results of random search \n",
    "param_grid = {\n",
    "    'bootstrap': [True],\n",
    "    'max_depth': [5,10,15,20,25,30],\n",
    "    'min_samples_leaf': [2,3, 4, 5,6],\n",
    "    'min_samples_split': [8, 10, 12],\n",
    "    'n_estimators': [100,110,120,130,140,150, 200]\n",
    "}\n",
    "# Create a based model\n",
    "rf = RandomForestClassifier(random_state=0)\n",
    "# Instantiate the grid search model\n",
    "grid_search = GridSearchCV(estimator = rf, param_grid = param_grid, \n",
    "                          cv = 5, n_jobs = -1, verbose = 2)\n",
    "grid_search2 = GridSearchCV(estimator = rf, param_grid = param_grid, \n",
    "                          cv = 5, n_jobs = -1, verbose = 2)"
   ]
  },
  {
   "cell_type": "code",
   "execution_count": 78,
   "id": "b8eb6fc7",
   "metadata": {
    "colab": {
     "background_save": true
    },
    "id": "ykrp29kZchOH"
   },
   "outputs": [
    {
     "name": "stdout",
     "output_type": "stream",
     "text": [
      "Fitting 5 folds for each of 630 candidates, totalling 3150 fits\n"
     ]
    },
    {
     "data": {
      "text/plain": [
       "GridSearchCV(cv=5, estimator=RandomForestClassifier(random_state=0), n_jobs=-1,\n",
       "             param_grid={'bootstrap': [True],\n",
       "                         'max_depth': [5, 10, 15, 20, 25, 30],\n",
       "                         'min_samples_leaf': [2, 3, 4, 5, 6],\n",
       "                         'min_samples_split': [8, 10, 12],\n",
       "                         'n_estimators': [100, 110, 120, 130, 140, 150, 200]},\n",
       "             verbose=2)"
      ]
     },
     "execution_count": 78,
     "metadata": {},
     "output_type": "execute_result"
    }
   ],
   "source": [
    "%timeit\n",
    "grid_search.fit(X_train_textUS, y_trainUS)"
   ]
  },
  {
   "cell_type": "code",
   "execution_count": 79,
   "id": "993a3ee0",
   "metadata": {
    "colab": {
     "background_save": true
    },
    "id": "VPMtZySUhsq-"
   },
   "outputs": [
    {
     "data": {
      "image/png": "[encoded data removed]",
      "text/plain": [
       "<Figure size 432x288 with 2 Axes>"
      ]
     },
     "metadata": {
      "needs_background": "light"
     },
     "output_type": "display_data"
    }
   ],
   "source": [
    "cm = confusion_matrix(grid_search.predict(X_test_textUS),y_testUS)\n",
    "make_confusion_matrix(cm,categories = categories)\n",
    "plt.title('RandomForest TunedParams')\n",
    "plt.savefig('CF6.png',bbox_inches='tight')\n",
    "# files.download('/content/drive/MyDrive/SongClassification[Genre,Lyrics]/archive/CF6.png') "
   ]
  },
  {
   "cell_type": "code",
   "execution_count": 80,
   "id": "e0a15f74",
   "metadata": {
    "colab": {
     "background_save": true
    },
    "id": "rpw2esveiSbI"
   },
   "outputs": [
    {
     "data": {
      "text/plain": [
       "0.425531914893617"
      ]
     },
     "execution_count": 80,
     "metadata": {},
     "output_type": "execute_result"
    }
   ],
   "source": [
    "grid_search.score(X_test_textUS,y_testUS)"
   ]
  },
  {
   "cell_type": "code",
   "execution_count": 81,
   "id": "81b4d02b",
   "metadata": {
    "colab": {
     "background_save": true
    },
    "id": "5cf613b0"
   },
   "outputs": [],
   "source": [
    "# scorelist = []\n",
    "\n",
    "# for i in range(1,20):\n",
    "#     rfclf = RandomForestClassifier(max_depth=i, random_state=0)\n",
    "#     rfclf.fit(X_train_textUS, y_trainUS)\n",
    "#     scorelist.append(rfclf.score(X_test_textUS,y_testUS))\n",
    "    "
   ]
  },
  {
   "cell_type": "code",
   "execution_count": 82,
   "id": "ae28550a",
   "metadata": {
    "colab": {
     "background_save": true
    },
    "id": "b6419699"
   },
   "outputs": [],
   "source": [
    "# treelist = []\n",
    "\n",
    "# for i in range(100,150):\n",
    "#     rfclf = RandomForestClassifier(max_depth=11, random_state=0,n_estimators = i)\n",
    "#     rfclf.fit(X_train_textUS, y_trainUS)\n",
    "#     treelist.append(rfclf.score(X_test_textUS,y_testUS))\n",
    "    "
   ]
  },
  {
   "cell_type": "code",
   "execution_count": 83,
   "id": "e2a80485",
   "metadata": {
    "colab": {
     "background_save": true
    },
    "id": "680b0677"
   },
   "outputs": [],
   "source": [
    "# treelist.index(max(treelist))\n"
   ]
  },
  {
   "cell_type": "code",
   "execution_count": 84,
   "id": "f806b05e",
   "metadata": {
    "colab": {
     "background_save": true
    },
    "id": "1654d966"
   },
   "outputs": [],
   "source": [
    "# plt.plot(scorelist)"
   ]
  },
  {
   "cell_type": "code",
   "execution_count": 85,
   "id": "dfb02522",
   "metadata": {
    "colab": {
     "background_save": true
    },
    "id": "f010be41"
   },
   "outputs": [],
   "source": [
    "# scorelist.index(max(scorelist))"
   ]
  },
  {
   "cell_type": "markdown",
   "id": "d3c8f9d7",
   "metadata": {
    "id": "e6dcd31e"
   },
   "source": [
    "It was observed that after hyper tuning the parameters and setting it as the maximum attained from the following we are getting a higher accuracy rate from using the RandomForestclassifier.\n"
   ]
  },
  {
   "cell_type": "code",
   "execution_count": 86,
   "id": "bf35facf",
   "metadata": {
    "colab": {
     "background_save": true
    },
    "id": "7397774d"
   },
   "outputs": [],
   "source": [
    "rfclfSVD = RandomForestClassifier()\n"
   ]
  },
  {
   "cell_type": "code",
   "execution_count": 87,
   "id": "248ed83e",
   "metadata": {
    "colab": {
     "background_save": true
    },
    "id": "83b60749"
   },
   "outputs": [
    {
     "data": {
      "text/plain": [
       "RandomForestClassifier()"
      ]
     },
     "execution_count": 87,
     "metadata": {},
     "output_type": "execute_result"
    }
   ],
   "source": [
    "rfclfSVD.fit(SVD_matrixUS, y_trainUS)"
   ]
  },
  {
   "cell_type": "code",
   "execution_count": 88,
   "id": "fb31752e",
   "metadata": {
    "colab": {
     "background_save": true
    },
    "id": "1e3f9a89"
   },
   "outputs": [
    {
     "data": {
      "text/plain": [
       "0.3617021276595745"
      ]
     },
     "execution_count": 88,
     "metadata": {},
     "output_type": "execute_result"
    }
   ],
   "source": [
    "rfclfSVD.score(SVD_matrix_testUS,y_testUS)"
   ]
  },
  {
   "cell_type": "code",
   "execution_count": 89,
   "id": "95a8ec35",
   "metadata": {
    "colab": {
     "background_save": true
    },
    "id": "Ft4BSTjYlocX"
   },
   "outputs": [
    {
     "data": {
      "image/png": "[encoded data removed]",
      "text/plain": [
       "<Figure size 432x288 with 2 Axes>"
      ]
     },
     "metadata": {
      "needs_background": "light"
     },
     "output_type": "display_data"
    }
   ],
   "source": [
    "cm = confusion_matrix(rfclfSVD.predict(SVD_matrix_testUS),y_testUS)\n",
    "make_confusion_matrix(cm,categories = categories)\n",
    "plt.title('RandomForest LSA')\n",
    "plt.savefig('CF7.png',bbox_inches='tight')\n",
    "# files.download('/content/drive/MyDrive/SongClassification[Genre,Lyrics]/archive/CF7.png') "
   ]
  },
  {
   "cell_type": "code",
   "execution_count": 90,
   "id": "6bba05a9",
   "metadata": {
    "colab": {
     "background_save": true
    },
    "id": "r9Q-wC-XT4No"
   },
   "outputs": [
    {
     "name": "stdout",
     "output_type": "stream",
     "text": [
      "Fitting 5 folds for each of 630 candidates, totalling 3150 fits\n"
     ]
    },
    {
     "data": {
      "text/plain": [
       "GridSearchCV(cv=5, estimator=RandomForestClassifier(random_state=0), n_jobs=-1,\n",
       "             param_grid={'bootstrap': [True],\n",
       "                         'max_depth': [5, 10, 15, 20, 25, 30],\n",
       "                         'min_samples_leaf': [2, 3, 4, 5, 6],\n",
       "                         'min_samples_split': [8, 10, 12],\n",
       "                         'n_estimators': [100, 110, 120, 130, 140, 150, 200]},\n",
       "             verbose=2)"
      ]
     },
     "execution_count": 90,
     "metadata": {},
     "output_type": "execute_result"
    }
   ],
   "source": [
    "grid_search2.fit(SVD_matrixUS, y_trainUS)"
   ]
  },
  {
   "cell_type": "code",
   "execution_count": 91,
   "id": "19a18624",
   "metadata": {
    "colab": {
     "background_save": true
    },
    "id": "uOSOrsLtT9WS"
   },
   "outputs": [
    {
     "data": {
      "text/plain": [
       "0.3617021276595745"
      ]
     },
     "execution_count": 91,
     "metadata": {},
     "output_type": "execute_result"
    }
   ],
   "source": [
    "grid_search2.score(SVD_matrix_testUS, y_testUS)"
   ]
  },
  {
   "cell_type": "code",
   "execution_count": 92,
   "id": "24f74a8f",
   "metadata": {
    "colab": {
     "background_save": true
    },
    "id": "MP3APlBQIvnB"
   },
   "outputs": [
    {
     "data": {
      "image/png": "[encoded data removed]",
      "text/plain": [
       "<Figure size 432x288 with 2 Axes>"
      ]
     },
     "metadata": {
      "needs_background": "light"
     },
     "output_type": "display_data"
    }
   ],
   "source": [
    "cm = confusion_matrix(grid_search2.predict(SVD_matrix_testUS),y_testUS)\n",
    "make_confusion_matrix(cm,categories = categories)\n",
    "plt.title('RandomForest LSA Tuned')\n",
    "plt.savefig('CF8.png',bbox_inches='tight')\n",
    "# files.download('/content/drive/MyDrive/SongClassification[Genre,Lyrics]/archive/CF8.png') "
   ]
  },
  {
   "cell_type": "code",
   "execution_count": 93,
   "id": "6e968eba",
   "metadata": {
    "id": "inopMUAhUD6w"
   },
   "outputs": [],
   "source": [
    "result_dict['RF']= precision_recall_fscore_support(y_testUS, rfclf.predict(X_test_textUS),average = 'macro')\n",
    "result_dict['RF_Tuned']=precision_recall_fscore_support(y_testUS, grid_search.predict(X_test_textUS),average = 'macro')\n",
    "result_dict['RF_LSA']=precision_recall_fscore_support(y_testUS, rfclfSVD.predict(SVD_matrix_testUS),average = 'macro')\n",
    "result_dict['RF_LSA_Tuned']=precision_recall_fscore_support(y_testUS, grid_search2.predict(SVD_matrix_testUS),average = 'macro')"
   ]
  },
  {
   "cell_type": "markdown",
   "id": "15f70df3",
   "metadata": {
    "id": "oJ5jvUUEh5ca"
   },
   "source": [
    "## XGBoost"
   ]
  },
  {
   "cell_type": "code",
   "execution_count": 94,
   "id": "b99227ae",
   "metadata": {},
   "outputs": [
    {
     "data": {
      "text/plain": [
       "<218x3540 sparse matrix of type '<class 'numpy.float64'>'\n",
       "\twith 13144 stored elements in Compressed Sparse Row format>"
      ]
     },
     "execution_count": 94,
     "metadata": {},
     "output_type": "execute_result"
    }
   ],
   "source": [
    "X_train_textUS"
   ]
  },
  {
   "cell_type": "code",
   "execution_count": 95,
   "id": "3c3835b4",
   "metadata": {},
   "outputs": [
    {
     "name": "stdout",
     "output_type": "stream",
     "text": [
      "Requirement already satisfied: xgboost in d:\\anaconda\\envs\\gpu_access\\lib\\site-packages (1.5.2)\n",
      "Requirement already satisfied: scipy in d:\\anaconda\\envs\\gpu_access\\lib\\site-packages (from xgboost) (1.4.1)\n",
      "Requirement already satisfied: numpy in d:\\anaconda\\envs\\gpu_access\\lib\\site-packages (from xgboost) (1.19.2)\n"
     ]
    },
    {
     "name": "stderr",
     "output_type": "stream",
     "text": [
      "WARNING: Ignoring invalid distribution -qdm (d:\\anaconda\\envs\\gpu_access\\lib\\site-packages)\n",
      "WARNING: Ignoring invalid distribution -qdm (d:\\anaconda\\envs\\gpu_access\\lib\\site-packages)\n",
      "WARNING: Ignoring invalid distribution -qdm (d:\\anaconda\\envs\\gpu_access\\lib\\site-packages)\n",
      "WARNING: Ignoring invalid distribution -qdm (d:\\anaconda\\envs\\gpu_access\\lib\\site-packages)\n",
      "WARNING: Ignoring invalid distribution -qdm (d:\\anaconda\\envs\\gpu_access\\lib\\site-packages)\n"
     ]
    }
   ],
   "source": [
    "!pip install xgboost"
   ]
  },
  {
   "cell_type": "code",
   "execution_count": 96,
   "id": "9cb6d402",
   "metadata": {
    "id": "yyzWuLrYiFsT"
   },
   "outputs": [],
   "source": [
    "from xgboost import XGBClassifier"
   ]
  },
  {
   "cell_type": "code",
   "execution_count": 97,
   "id": "b74ba49b",
   "metadata": {
    "id": "g9u9QqD9iF00"
   },
   "outputs": [],
   "source": [
    "xgbmodel = XGBClassifier(booster = 'gbtree')\n",
    "xgbmodelSVD = XGBClassifier(booster = 'gbtree') "
   ]
  },
  {
   "cell_type": "code",
   "execution_count": 98,
   "id": "17b7d8e0",
   "metadata": {
    "id": "UtHfvTzOiPA4"
   },
   "outputs": [
    {
     "name": "stdout",
     "output_type": "stream",
     "text": [
      "[20:52:27] WARNING: C:/Users/Administrator/workspace/xgboost-win64_release_1.5.1/src/learner.cc:1115: Starting in XGBoost 1.3.0, the default evaluation metric used with the objective 'multi:softprob' was changed from 'merror' to 'mlogloss'. Explicitly set eval_metric if you'd like to restore the old behavior.\n"
     ]
    },
    {
     "name": "stderr",
     "output_type": "stream",
     "text": [
      "D:\\Anaconda\\envs\\gpu_access\\lib\\site-packages\\xgboost\\sklearn.py:1224: UserWarning: The use of label encoder in XGBClassifier is deprecated and will be removed in a future release. To remove this warning, do the following: 1) Pass option use_label_encoder=False when constructing XGBClassifier object; and 2) Encode your labels (y) as integers starting with 0, i.e. 0, 1, 2, ..., [num_class - 1].\n",
      "  warnings.warn(label_encoder_deprecation_msg, UserWarning)\n"
     ]
    },
    {
     "data": {
      "text/plain": [
       "XGBClassifier(base_score=0.5, booster='gbtree', colsample_bylevel=1,\n",
       "              colsample_bynode=1, colsample_bytree=1, enable_categorical=False,\n",
       "              gamma=0, gpu_id=-1, importance_type=None,\n",
       "              interaction_constraints='', learning_rate=0.300000012,\n",
       "              max_delta_step=0, max_depth=6, min_child_weight=1, missing=nan,\n",
       "              monotone_constraints='()', n_estimators=100, n_jobs=12,\n",
       "              num_parallel_tree=1, objective='multi:softprob', predictor='auto',\n",
       "              random_state=0, reg_alpha=0, reg_lambda=1, scale_pos_weight=None,\n",
       "              subsample=1, tree_method='exact', validate_parameters=1,\n",
       "              verbosity=None)"
      ]
     },
     "execution_count": 98,
     "metadata": {},
     "output_type": "execute_result"
    }
   ],
   "source": [
    "xgbmodel.fit(X_train_textUS.astype('float'),y_trainUS)"
   ]
  },
  {
   "cell_type": "code",
   "execution_count": 99,
   "id": "2eb7f18c",
   "metadata": {
    "id": "kWLHyyfmsHCS"
   },
   "outputs": [
    {
     "data": {
      "text/plain": [
       "0.32978723404255317"
      ]
     },
     "execution_count": 99,
     "metadata": {},
     "output_type": "execute_result"
    }
   ],
   "source": [
    "xgbmodel.score(X_test_textUS,y_testUS)"
   ]
  },
  {
   "cell_type": "code",
   "execution_count": 100,
   "id": "fac1135e",
   "metadata": {
    "id": "dd7PbQkgIuRv"
   },
   "outputs": [
    {
     "data": {
      "image/png": "[encoded data removed]",
      "text/plain": [
       "<Figure size 432x288 with 2 Axes>"
      ]
     },
     "metadata": {
      "needs_background": "light"
     },
     "output_type": "display_data"
    }
   ],
   "source": [
    "categories = y_testUS.unique()\n",
    "cm = confusion_matrix(xgbmodel.predict(X_test_textUS),y_testUS)\n",
    "make_confusion_matrix(cm,categories = categories)\n",
    "plt.title('XGBoost Defaultparams')\n",
    "plt.savefig('CF9.png',bbox_inches='tight')\n",
    "# files.download('/content/drive/MyDrive/SongClassification[Genre,Lyrics]/archive/CF9.png') "
   ]
  },
  {
   "cell_type": "code",
   "execution_count": 101,
   "id": "819ab99f",
   "metadata": {
    "id": "A8Q9Ptku5yOw"
   },
   "outputs": [
    {
     "name": "stderr",
     "output_type": "stream",
     "text": [
      "D:\\Anaconda\\envs\\gpu_access\\lib\\site-packages\\xgboost\\sklearn.py:1224: UserWarning: The use of label encoder in XGBClassifier is deprecated and will be removed in a future release. To remove this warning, do the following: 1) Pass option use_label_encoder=False when constructing XGBClassifier object; and 2) Encode your labels (y) as integers starting with 0, i.e. 0, 1, 2, ..., [num_class - 1].\n",
      "  warnings.warn(label_encoder_deprecation_msg, UserWarning)\n"
     ]
    },
    {
     "name": "stdout",
     "output_type": "stream",
     "text": [
      "[20:52:28] WARNING: C:/Users/Administrator/workspace/xgboost-win64_release_1.5.1/src/learner.cc:1115: Starting in XGBoost 1.3.0, the default evaluation metric used with the objective 'multi:softprob' was changed from 'merror' to 'mlogloss'. Explicitly set eval_metric if you'd like to restore the old behavior.\n"
     ]
    },
    {
     "data": {
      "text/plain": [
       "XGBClassifier(base_score=0.5, booster='gbtree', colsample_bylevel=1,\n",
       "              colsample_bynode=1, colsample_bytree=1, enable_categorical=False,\n",
       "              gamma=0, gpu_id=-1, importance_type=None,\n",
       "              interaction_constraints='', learning_rate=0.300000012,\n",
       "              max_delta_step=0, max_depth=6, min_child_weight=1, missing=nan,\n",
       "              monotone_constraints='()', n_estimators=100, n_jobs=12,\n",
       "              num_parallel_tree=1, objective='multi:softprob', predictor='auto',\n",
       "              random_state=0, reg_alpha=0, reg_lambda=1, scale_pos_weight=None,\n",
       "              subsample=1, tree_method='exact', validate_parameters=1,\n",
       "              verbosity=None)"
      ]
     },
     "execution_count": 101,
     "metadata": {},
     "output_type": "execute_result"
    }
   ],
   "source": [
    "xgbmodelSVD.fit(SVD_matrixUS,y_trainUS)"
   ]
  },
  {
   "cell_type": "code",
   "execution_count": 102,
   "id": "af4b9b93",
   "metadata": {
    "id": "APVxmD2I55Mw"
   },
   "outputs": [
    {
     "data": {
      "text/plain": [
       "0.3829787234042553"
      ]
     },
     "execution_count": 102,
     "metadata": {},
     "output_type": "execute_result"
    }
   ],
   "source": [
    "xgbmodelSVD.score(SVD_matrix_testUS,y_testUS)"
   ]
  },
  {
   "cell_type": "code",
   "execution_count": 103,
   "id": "9c90ab92",
   "metadata": {
    "id": "3sq1umDK6CmV"
   },
   "outputs": [
    {
     "data": {
      "image/png": "[encoded data removed]",
      "text/plain": [
       "<Figure size 432x288 with 2 Axes>"
      ]
     },
     "metadata": {
      "needs_background": "light"
     },
     "output_type": "display_data"
    }
   ],
   "source": [
    "\n",
    "cm = confusion_matrix(xgbmodelSVD.predict(SVD_matrix_testUS ),y_testUS)\n",
    "make_confusion_matrix(cm,categories = categories)\n",
    "plt.title('XGBoost LSA')\n",
    "plt.savefig('CF10.png',bbox_inches='tight')\n",
    "# files.download('/content/drive/MyDrive/SongClassification[Genre,Lyrics]/archive/CF10.png') "
   ]
  },
  {
   "cell_type": "code",
   "execution_count": 104,
   "id": "b3d7535a",
   "metadata": {
    "id": "SHPL8JVY43A8"
   },
   "outputs": [],
   "source": [
    "from sklearn.model_selection import RandomizedSearchCV, GridSearchCV"
   ]
  },
  {
   "cell_type": "code",
   "execution_count": 105,
   "id": "3e12d249",
   "metadata": {
    "id": "Ug62S54Y479V"
   },
   "outputs": [],
   "source": [
    "params = {\n",
    "        'min_child_weight': [1, 5, 10],\n",
    "        'gamma': np.arange(0, 5, .1),\n",
    "        'subsample': [0.6, 0.8, 1.0],\n",
    "        'colsample_bytree': [0.6, 0.8, 1.0],\n",
    "        'max_depth':np.arange(0, 10, 1)\n",
    "        }"
   ]
  },
  {
   "cell_type": "code",
   "execution_count": 106,
   "id": "d6e99ab9",
   "metadata": {
    "id": "OIzyb5-l5CKd"
   },
   "outputs": [],
   "source": [
    "from sklearn.metrics import roc_auc_score\n",
    "\n",
    "folds = 5\n",
    "param_comb = 5\n",
    "\n",
    "skf = StratifiedKFold(n_splits=folds, shuffle = True, random_state = 1001)\n",
    "\n",
    "random_search = RandomizedSearchCV(xgbmodel, param_distributions=params, n_iter=param_comb,n_jobs=4, cv=skf.split(X_train_textUS,y_trainUS), verbose=3, random_state=1001 )\n",
    "random_searchSVD = RandomizedSearchCV(xgbmodelSVD, param_distributions=params, n_iter=param_comb,n_jobs=4, cv=skf.split(X_train_textUS,y_trainUS), verbose=3, random_state=1001 )"
   ]
  },
  {
   "cell_type": "code",
   "execution_count": 107,
   "id": "432e63f0",
   "metadata": {
    "id": "7JAiF0Km-NIq"
   },
   "outputs": [
    {
     "name": "stdout",
     "output_type": "stream",
     "text": [
      "Fitting 5 folds for each of 5 candidates, totalling 25 fits\n"
     ]
    },
    {
     "name": "stderr",
     "output_type": "stream",
     "text": [
      "D:\\Anaconda\\envs\\gpu_access\\lib\\site-packages\\xgboost\\sklearn.py:1224: UserWarning: The use of label encoder in XGBClassifier is deprecated and will be removed in a future release. To remove this warning, do the following: 1) Pass option use_label_encoder=False when constructing XGBClassifier object; and 2) Encode your labels (y) as integers starting with 0, i.e. 0, 1, 2, ..., [num_class - 1].\n",
      "  warnings.warn(label_encoder_deprecation_msg, UserWarning)\n"
     ]
    },
    {
     "name": "stdout",
     "output_type": "stream",
     "text": [
      "[20:52:42] WARNING: C:/Users/Administrator/workspace/xgboost-win64_release_1.5.1/src/learner.cc:1115: Starting in XGBoost 1.3.0, the default evaluation metric used with the objective 'multi:softprob' was changed from 'merror' to 'mlogloss'. Explicitly set eval_metric if you'd like to restore the old behavior.\n",
      "\n",
      " Time taken: 0 hours 0 minutes and 13.85 seconds.\n"
     ]
    }
   ],
   "source": [
    "from datetime import datetime\n",
    "def timer(start_time=None):\n",
    "    if not start_time:\n",
    "        start_time = datetime.now()\n",
    "        return start_time\n",
    "    elif start_time:\n",
    "        thour, temp_sec = divmod((datetime.now() - start_time).total_seconds(), 3600)\n",
    "        tmin, tsec = divmod(temp_sec, 60)\n",
    "        print('\\n Time taken: %i hours %i minutes and %s seconds.' % (thour, tmin, round(tsec, 2)))\n",
    "\n",
    "start_time = timer(None) # timing starts from this point for \"start_time\" variable\n",
    "random_search.fit(X_train_textUS, y_trainUS)\n",
    "timer(start_time)"
   ]
  },
  {
   "cell_type": "code",
   "execution_count": 108,
   "id": "caaba823",
   "metadata": {
    "id": "ctg_RXIgvXGV"
   },
   "outputs": [
    {
     "name": "stdout",
     "output_type": "stream",
     "text": [
      "Fitting 5 folds for each of 5 candidates, totalling 25 fits\n"
     ]
    },
    {
     "name": "stderr",
     "output_type": "stream",
     "text": [
      "D:\\Anaconda\\envs\\gpu_access\\lib\\site-packages\\xgboost\\sklearn.py:1224: UserWarning: The use of label encoder in XGBClassifier is deprecated and will be removed in a future release. To remove this warning, do the following: 1) Pass option use_label_encoder=False when constructing XGBClassifier object; and 2) Encode your labels (y) as integers starting with 0, i.e. 0, 1, 2, ..., [num_class - 1].\n",
      "  warnings.warn(label_encoder_deprecation_msg, UserWarning)\n"
     ]
    },
    {
     "name": "stdout",
     "output_type": "stream",
     "text": [
      "[20:52:49] WARNING: C:/Users/Administrator/workspace/xgboost-win64_release_1.5.1/src/learner.cc:1115: Starting in XGBoost 1.3.0, the default evaluation metric used with the objective 'multi:softprob' was changed from 'merror' to 'mlogloss'. Explicitly set eval_metric if you'd like to restore the old behavior.\n",
      "\n",
      " Time taken: 0 hours 0 minutes and 6.0 seconds.\n"
     ]
    }
   ],
   "source": [
    "from datetime import datetime\n",
    "def timer(start_time=None):\n",
    "    if not start_time:\n",
    "        start_time = datetime.now()\n",
    "        return start_time\n",
    "    elif start_time:\n",
    "        thour, temp_sec = divmod((datetime.now() - start_time).total_seconds(), 3600)\n",
    "        tmin, tsec = divmod(temp_sec, 60)\n",
    "        print('\\n Time taken: %i hours %i minutes and %s seconds.' % (thour, tmin, round(tsec, 2)))\n",
    "\n",
    "start_time = timer(None) # timing starts from this point for \"start_time\" variable\n",
    "random_searchSVD.fit(SVD_matrixUS, y_trainUS)\n",
    "timer(start_time)"
   ]
  },
  {
   "cell_type": "code",
   "execution_count": 109,
   "id": "fadc294b",
   "metadata": {
    "id": "5FxUdrdzvMkd"
   },
   "outputs": [
    {
     "data": {
      "text/plain": [
       "0.39361702127659576"
      ]
     },
     "execution_count": 109,
     "metadata": {},
     "output_type": "execute_result"
    }
   ],
   "source": [
    "random_searchSVD.score(SVD_matrix_testUS,y_testUS)"
   ]
  },
  {
   "cell_type": "code",
   "execution_count": 110,
   "id": "10fa413f",
   "metadata": {
    "id": "MHu0Y7givF7r"
   },
   "outputs": [
    {
     "data": {
      "image/png": "[encoded data removed]",
      "text/plain": [
       "<Figure size 432x288 with 2 Axes>"
      ]
     },
     "metadata": {
      "needs_background": "light"
     },
     "output_type": "display_data"
    }
   ],
   "source": [
    "cm = confusion_matrix(random_search.predict(X_test_textUS),y_testUS)\n",
    "make_confusion_matrix(cm,categories = categories)\n",
    "plt.title('XGBoost Tuned')\n",
    "plt.savefig('CF11.png',bbox_inches='tight')\n",
    "# files.download('/content/drive/MyDrive/SongClassification[Genre,Lyrics]/archive/CF11.png') "
   ]
  },
  {
   "cell_type": "code",
   "execution_count": 111,
   "id": "7a105d9f",
   "metadata": {
    "id": "6cfSwh3s_M3z"
   },
   "outputs": [
    {
     "name": "stdout",
     "output_type": "stream",
     "text": [
      "\n",
      " All results:\n",
      "{'mean_fit_time': array([3.20639992, 0.96219993, 2.1281095 , 1.00971532, 0.56879997]), 'std_fit_time': array([0.08958156, 0.08102818, 0.05002478, 0.05102729, 0.03701595]), 'mean_score_time': array([0.01500092, 0.02440066, 0.01520028, 0.01540189, 0.01980085]), 'std_score_time': array([0.00126444, 0.01327508, 0.00116575, 0.00079999, 0.00541876]), 'param_subsample': masked_array(data=[0.8, 0.8, 1.0, 0.6, 0.6],\n",
      "             mask=[False, False, False, False, False],\n",
      "       fill_value='?',\n",
      "            dtype=object), 'param_min_child_weight': masked_array(data=[1, 10, 1, 1, 1],\n",
      "             mask=[False, False, False, False, False],\n",
      "       fill_value='?',\n",
      "            dtype=object), 'param_max_depth': masked_array(data=[8, 1, 5, 2, 0],\n",
      "             mask=[False, False, False, False, False],\n",
      "       fill_value='?',\n",
      "            dtype=object), 'param_gamma': masked_array(data=[3.2, 0.30000000000000004, 0.2, 1.3, 1.8],\n",
      "             mask=[False, False, False, False, False],\n",
      "       fill_value='?',\n",
      "            dtype=object), 'param_colsample_bytree': masked_array(data=[0.6, 0.6, 0.6, 1.0, 0.8],\n",
      "             mask=[False, False, False, False, False],\n",
      "       fill_value='?',\n",
      "            dtype=object), 'params': [{'subsample': 0.8, 'min_child_weight': 1, 'max_depth': 8, 'gamma': 3.2, 'colsample_bytree': 0.6}, {'subsample': 0.8, 'min_child_weight': 10, 'max_depth': 1, 'gamma': 0.30000000000000004, 'colsample_bytree': 0.6}, {'subsample': 1.0, 'min_child_weight': 1, 'max_depth': 5, 'gamma': 0.2, 'colsample_bytree': 0.6}, {'subsample': 0.6, 'min_child_weight': 1, 'max_depth': 2, 'gamma': 1.3, 'colsample_bytree': 1.0}, {'subsample': 0.6, 'min_child_weight': 1, 'max_depth': 0, 'gamma': 1.8, 'colsample_bytree': 0.8}], 'split0_test_score': array([0.40909091, 0.38636364, 0.5       , 0.47727273, 0.18181818]), 'split1_test_score': array([0.38636364, 0.38636364, 0.47727273, 0.40909091, 0.18181818]), 'split2_test_score': array([0.31818182, 0.27272727, 0.34090909, 0.34090909, 0.20454545]), 'split3_test_score': array([0.37209302, 0.30232558, 0.41860465, 0.41860465, 0.18604651]), 'split4_test_score': array([0.44186047, 0.46511628, 0.55813953, 0.55813953, 0.18604651]), 'mean_test_score': array([0.38551797, 0.36257928, 0.4589852 , 0.44080338, 0.18805497]), 'std_test_score': array([0.04109808, 0.06833611, 0.0740551 , 0.07290421, 0.0084593 ]), 'rank_test_score': array([3, 4, 1, 2, 5])}\n",
      "\n",
      " Best estimator:\n",
      "XGBClassifier(base_score=0.5, booster='gbtree', colsample_bylevel=1,\n",
      "              colsample_bynode=1, colsample_bytree=0.6,\n",
      "              enable_categorical=False, gamma=0.2, gpu_id=-1,\n",
      "              importance_type=None, interaction_constraints='',\n",
      "              learning_rate=0.300000012, max_delta_step=0, max_depth=5,\n",
      "              min_child_weight=1, missing=nan, monotone_constraints='()',\n",
      "              n_estimators=100, n_jobs=12, num_parallel_tree=1,\n",
      "              objective='multi:softprob', predictor='auto', random_state=0,\n",
      "              reg_alpha=0, reg_lambda=1, scale_pos_weight=None, subsample=1.0,\n",
      "              tree_method='exact', validate_parameters=1, verbosity=None)\n",
      "\n",
      " Best normalized gini score for 5-fold search with 5 parameter combinations:\n",
      "-0.08202959830866807\n",
      "\n",
      " Best hyperparameters:\n",
      "{'subsample': 1.0, 'min_child_weight': 1, 'max_depth': 5, 'gamma': 0.2, 'colsample_bytree': 0.6}\n"
     ]
    }
   ],
   "source": [
    "print('\\n All results:')\n",
    "print(random_search.cv_results_)\n",
    "print('\\n Best estimator:')\n",
    "print(random_search.best_estimator_)\n",
    "print('\\n Best normalized gini score for %d-fold search with %d parameter combinations:' % (folds, param_comb))\n",
    "print(random_search.best_score_ * 2 - 1)\n",
    "print('\\n Best hyperparameters:')\n",
    "print(random_search.best_params_)\n",
    "results = pd.DataFrame(random_search.cv_results_)"
   ]
  },
  {
   "cell_type": "code",
   "execution_count": 112,
   "id": "b9d8eca3",
   "metadata": {
    "id": "8QMfcHhs6pKJ"
   },
   "outputs": [
    {
     "data": {
      "text/plain": [
       "0.39361702127659576"
      ]
     },
     "execution_count": 112,
     "metadata": {},
     "output_type": "execute_result"
    }
   ],
   "source": [
    "random_searchSVD.score(SVD_matrix_testUS,y_testUS)"
   ]
  },
  {
   "cell_type": "code",
   "execution_count": 113,
   "id": "18656873",
   "metadata": {
    "id": "8PrZDexK6rzO"
   },
   "outputs": [
    {
     "data": {
      "image/png": "[encoded data removed]",
      "text/plain": [
       "<Figure size 432x288 with 2 Axes>"
      ]
     },
     "metadata": {
      "needs_background": "light"
     },
     "output_type": "display_data"
    }
   ],
   "source": [
    "cm = confusion_matrix(random_searchSVD .predict(SVD_matrix_testUS),y_testUS)\n",
    "make_confusion_matrix(cm,categories = categories)\n",
    "plt.title('XGBoost LSA Tuned')\n",
    "plt.savefig('CF12.png',bbox_inches='tight')\n",
    "# files.download('/content/drive/MyDrive/SongClassification[Genre,Lyrics]/archive/CF12.png') "
   ]
  },
  {
   "cell_type": "code",
   "execution_count": 114,
   "id": "66a0a3ae",
   "metadata": {
    "id": "Nnyp47v-VbTj"
   },
   "outputs": [],
   "source": [
    "result_dict['XBG'] = precision_recall_fscore_support(y_testUS, xgbmodel.predict(X_test_textUS),average = 'macro')\n",
    "result_dict['XBG_Tuned']=precision_recall_fscore_support(y_testUS, random_search.predict(X_test_textUS),average = 'macro')\n",
    "result_dict['XBG_LSA']=precision_recall_fscore_support(y_testUS, xgbmodelSVD.predict(SVD_matrix_testUS),average = 'macro')\n",
    "result_dict['XBG_LSA_Tuned']=precision_recall_fscore_support(y_testUS, random_searchSVD.predict(SVD_matrix_testUS),average = 'macro')"
   ]
  },
  {
   "cell_type": "markdown",
   "id": "5fe8dca6",
   "metadata": {
    "id": "8e184ff8"
   },
   "source": [
    "#### SVM Classifier"
   ]
  },
  {
   "cell_type": "code",
   "execution_count": 115,
   "id": "f189b1b8",
   "metadata": {
    "id": "897a5989"
   },
   "outputs": [],
   "source": [
    "from sklearn.svm import SVC\n",
    "from sklearn.pipeline import make_pipeline"
   ]
  },
  {
   "cell_type": "code",
   "execution_count": 116,
   "id": "0b4df44f",
   "metadata": {
    "id": "eef76688"
   },
   "outputs": [],
   "source": [
    "SVMclf = SVC(C = 1.6,kernel='linear',degree = 4)\n",
    "SVMclfSVD = SVC(C=1.6, kernel='linear', degree=4, gamma='auto')"
   ]
  },
  {
   "cell_type": "code",
   "execution_count": 117,
   "id": "0647edb9",
   "metadata": {
    "id": "pYgFTkpXDwy5"
   },
   "outputs": [
    {
     "name": "stdout",
     "output_type": "stream",
     "text": [
      "Wall time: 0 ns\n"
     ]
    },
    {
     "data": {
      "text/plain": [
       "SVC(C=1.6, degree=4, kernel='linear')"
      ]
     },
     "execution_count": 117,
     "metadata": {},
     "output_type": "execute_result"
    }
   ],
   "source": [
    "%time\n",
    "SVMclf.fit(X_train_textUS,y_trainUS)"
   ]
  },
  {
   "cell_type": "code",
   "execution_count": 118,
   "id": "6aedb87b",
   "metadata": {
    "id": "7R3IueBDDRRH"
   },
   "outputs": [
    {
     "name": "stdout",
     "output_type": "stream",
     "text": [
      "Wall time: 0 ns\n"
     ]
    },
    {
     "data": {
      "text/plain": [
       "SVC(C=1.6, degree=4, gamma='auto', kernel='linear')"
      ]
     },
     "execution_count": 118,
     "metadata": {},
     "output_type": "execute_result"
    }
   ],
   "source": [
    "%time\n",
    "SVMclfSVD.fit(SVD_matrixUS,y_trainUS)"
   ]
  },
  {
   "cell_type": "code",
   "execution_count": 119,
   "id": "411b57e7",
   "metadata": {
    "id": "dZZ5oCKqan9q"
   },
   "outputs": [
    {
     "data": {
      "text/plain": [
       "0.43617021276595747"
      ]
     },
     "execution_count": 119,
     "metadata": {},
     "output_type": "execute_result"
    }
   ],
   "source": [
    "SVMclf.score(X_test_textUS,y_testUS)"
   ]
  },
  {
   "cell_type": "code",
   "execution_count": 120,
   "id": "ce286568",
   "metadata": {
    "id": "ba4d9a07"
   },
   "outputs": [
    {
     "name": "stdout",
     "output_type": "stream",
     "text": [
      "Wall time: 0 ns\n"
     ]
    },
    {
     "data": {
      "text/plain": [
       "0.40425531914893614"
      ]
     },
     "execution_count": 120,
     "metadata": {},
     "output_type": "execute_result"
    }
   ],
   "source": [
    "%time\n",
    "SVMclfSVD.score(SVD_matrix_testUS,y_testUS)"
   ]
  },
  {
   "cell_type": "code",
   "execution_count": 121,
   "id": "7475fe5d",
   "metadata": {
    "id": "xKwxle1uToXZ"
   },
   "outputs": [
    {
     "data": {
      "image/png": "[encoded data removed]",
      "text/plain": [
       "<Figure size 432x288 with 2 Axes>"
      ]
     },
     "metadata": {
      "needs_background": "light"
     },
     "output_type": "display_data"
    }
   ],
   "source": [
    "cm = confusion_matrix(SVMclf.predict(X_test_textUS),y_testUS)\n",
    "make_confusion_matrix(cm,categories = categories)\n",
    "plt.title('SVM Tuned')\n",
    "plt.savefig('CF13.png',bbox_inches='tight')\n",
    "# files.download('/content/drive/MyDrive/SongClassification[Genre,Lyrics]/archive/CF13.png') "
   ]
  },
  {
   "cell_type": "code",
   "execution_count": 122,
   "id": "b0bbdf7a",
   "metadata": {
    "id": "DOpj4MZyb1JF"
   },
   "outputs": [
    {
     "data": {
      "image/png": "[encoded data removed]",
      "text/plain": [
       "<Figure size 432x288 with 2 Axes>"
      ]
     },
     "metadata": {
      "needs_background": "light"
     },
     "output_type": "display_data"
    }
   ],
   "source": [
    "cm = confusion_matrix(SVMclfSVD.predict(SVD_matrix_testUS),y_testUS)\n",
    "make_confusion_matrix(cm,categories = categories)\n",
    "plt.title('SVM LSA')\n",
    "plt.savefig('CF14.png',bbox_inches='tight')\n",
    "# files.download('/content/drive/MyDrive/SongClassification[Genre,Lyrics]/archive/CF14.png') "
   ]
  },
  {
   "cell_type": "code",
   "execution_count": 123,
   "id": "ab0108cc",
   "metadata": {
    "id": "QeIdCksBV0hx"
   },
   "outputs": [],
   "source": [
    "result_dict['SVM_Tuned'] =  precision_recall_fscore_support(y_testUS, SVMclf.predict(X_test_textUS),average = 'macro')\n",
    "result_dict['SVM_LSA']  =precision_recall_fscore_support(y_testUS, SVMclfSVD.predict(SVD_matrix_testUS),average = 'macro')\n",
    "              "
   ]
  },
  {
   "cell_type": "code",
   "execution_count": 124,
   "id": "d7528e4d",
   "metadata": {
    "id": "5Acww_VmpYdu"
   },
   "outputs": [
    {
     "data": {
      "text/plain": [
       "(0.4550763048441067, 0.449212715389186, 0.42232142857142857, None)"
      ]
     },
     "execution_count": 124,
     "metadata": {},
     "output_type": "execute_result"
    }
   ],
   "source": [
    "result_dict['SVM_Tuned'] "
   ]
  },
  {
   "cell_type": "markdown",
   "id": "beac97af",
   "metadata": {
    "id": "lQGEJtzF8AR8"
   },
   "source": [
    "Using an SVM linear classifier a score above.45 is attained which after tuning for any value of C higher than 1."
   ]
  },
  {
   "cell_type": "markdown",
   "id": "7205f5ab",
   "metadata": {
    "id": "fcaabe49"
   },
   "source": [
    "## KNN Classifier"
   ]
  },
  {
   "cell_type": "code",
   "execution_count": 125,
   "id": "fa511fc1",
   "metadata": {
    "id": "89b4050c"
   },
   "outputs": [],
   "source": [
    "from sklearn.neighbors import KNeighborsClassifier"
   ]
  },
  {
   "cell_type": "code",
   "execution_count": 126,
   "id": "dad6bb98",
   "metadata": {
    "id": "bdb557ee"
   },
   "outputs": [],
   "source": [
    "# neigh = KNeighborsClassifier(n_neighbors=3)\n",
    "# neigh2 = KNeighborsClassifier(n_neighbors=3)\n",
    "neigh3 = KNeighborsClassifier(n_neighbors=4)\n",
    "neigh4 = KNeighborsClassifier(n_neighbors=4)"
   ]
  },
  {
   "cell_type": "code",
   "execution_count": 127,
   "id": "b6627e73",
   "metadata": {
    "id": "71c277a8"
   },
   "outputs": [],
   "source": [
    "# neigh.fit(X_train_text,y_train)\n",
    "# neigh2.fit(SVD_matrix, y_train)"
   ]
  },
  {
   "cell_type": "code",
   "execution_count": 128,
   "id": "e0d0698c",
   "metadata": {
    "id": "63e51fd3"
   },
   "outputs": [
    {
     "data": {
      "text/plain": [
       "KNeighborsClassifier(n_neighbors=4)"
      ]
     },
     "execution_count": 128,
     "metadata": {},
     "output_type": "execute_result"
    }
   ],
   "source": [
    "neigh3.fit(X_train_textUS, y_trainUS)\n",
    "neigh4.fit(SVD_matrixUS, y_trainUS)"
   ]
  },
  {
   "cell_type": "code",
   "execution_count": 129,
   "id": "c7bf5462",
   "metadata": {
    "id": "e2b10f93"
   },
   "outputs": [],
   "source": [
    " # neigh.score(X_test_text,y_test)"
   ]
  },
  {
   "cell_type": "code",
   "execution_count": 130,
   "id": "cc28e007",
   "metadata": {
    "id": "9d857e14"
   },
   "outputs": [],
   "source": [
    "# neigh2.score(SVD_matrix_testUS,y_test)"
   ]
  },
  {
   "cell_type": "code",
   "execution_count": 131,
   "id": "9eb9cc26",
   "metadata": {
    "id": "2a4daa9f"
   },
   "outputs": [
    {
     "data": {
      "text/plain": [
       "0.23404255319148937"
      ]
     },
     "execution_count": 131,
     "metadata": {},
     "output_type": "execute_result"
    }
   ],
   "source": [
    "neigh3.score(X_test_textUS,y_testUS)"
   ]
  },
  {
   "cell_type": "code",
   "execution_count": 132,
   "id": "5fdc60c8",
   "metadata": {
    "id": "e2e46903"
   },
   "outputs": [
    {
     "data": {
      "text/plain": [
       "0.24468085106382978"
      ]
     },
     "execution_count": 132,
     "metadata": {},
     "output_type": "execute_result"
    }
   ],
   "source": [
    "neigh4.score(SVD_matrix_testUS,y_testUS)"
   ]
  },
  {
   "cell_type": "code",
   "execution_count": 133,
   "id": "56181530",
   "metadata": {
    "id": "8b90b6df"
   },
   "outputs": [],
   "source": [
    "# cm = confusion_matrix(neigh.predict(X_test_text),y_test)\n",
    "# make_confusion_matrix(cm,categories = categories)"
   ]
  },
  {
   "cell_type": "code",
   "execution_count": 134,
   "id": "58438eab",
   "metadata": {
    "id": "75ae395d"
   },
   "outputs": [],
   "source": [
    "# cm = confusion_matrix(neigh.predict(svd_matrix_test),y_test)\n",
    "# make_confusion_matrix(cm,categories = categories)"
   ]
  },
  {
   "cell_type": "code",
   "execution_count": 135,
   "id": "82468f09",
   "metadata": {
    "id": "21858dd0"
   },
   "outputs": [],
   "source": [
    "# cm = confusion_matrix(neigh3.predict(X_test_textUS),y_testUS)\n",
    "# make_confusion_matrix(cm,categories = categories)"
   ]
  },
  {
   "cell_type": "code",
   "execution_count": 136,
   "id": "378cab82",
   "metadata": {
    "id": "1f453578"
   },
   "outputs": [],
   "source": [
    "# cm = confusion_matrix(neigh4.predict(SVD_matrix_testUS),y_testUS)\n",
    "# make_confusion_matrix(cm,categories = categories)"
   ]
  },
  {
   "cell_type": "code",
   "execution_count": 137,
   "id": "2276c160",
   "metadata": {
    "id": "d110911c"
   },
   "outputs": [],
   "source": [
    "\n",
    "# table = [['Logit', 'NaiveBayes', 'KNN'], [logit3.score(X_test_textUS,y_testUS),\n",
    "#                                           nbclfMNB.score(X_test_textUS,y_testUS),\n",
    "#                                           neigh3.score(X_test_textUS,y_testUS)]]\n",
    "         "
   ]
  },
  {
   "cell_type": "code",
   "execution_count": 138,
   "id": "10d1a026",
   "metadata": {
    "id": "oi2BimV9XV-n"
   },
   "outputs": [
    {
     "data": {
      "text/plain": [
       "{'LR': (0.4725600510253201, 0.43617021276595747, 0.42257361170367347, None),\n",
       " 'LR_LSA': (0.535044485190062, 0.46808510638297873, 0.45007872744155997, None),\n",
       " 'NB_Gaussian': (0.4228030303030303,\n",
       "  0.3566250742721331,\n",
       "  0.32049900918753377,\n",
       "  None),\n",
       " 'NB_Mulinomial': (0.37348008385744236,\n",
       "  0.3209447415329768,\n",
       "  0.2656141386320414,\n",
       "  None),\n",
       " 'RF': (0.45051707551707554, 0.4514928698752228, 0.42647493163489036, None),\n",
       " 'RF_Tuned': (0.46315673705379584,\n",
       "  0.46521093285799164,\n",
       "  0.41444430221311945,\n",
       "  None),\n",
       " 'RF_LSA': (0.44215914804150097,\n",
       "  0.4056595365418895,\n",
       "  0.33296358290380285,\n",
       "  None),\n",
       " 'RF_LSA_Tuned': (0.4458774250440917,\n",
       "  0.38915626856803326,\n",
       "  0.34283457874711026,\n",
       "  None),\n",
       " 'XBG': (0.34358003108003105, 0.3484254307783719, 0.32776401158754104, None),\n",
       " 'XBG_Tuned': (0.37820790320790326,\n",
       "  0.3763294711824124,\n",
       "  0.36030493358079557,\n",
       "  None),\n",
       " 'XBG_LSA': (0.38507547203199377,\n",
       "  0.4125148544266191,\n",
       "  0.3645016898306372,\n",
       "  None),\n",
       " 'XBG_LSA_Tuned': (0.43775807525807525,\n",
       "  0.40325311942959,\n",
       "  0.3798308732277012,\n",
       "  None),\n",
       " 'SVM_Tuned': (0.4550763048441067,\n",
       "  0.449212715389186,\n",
       "  0.42232142857142857,\n",
       "  None),\n",
       " 'SVM_LSA': (0.43099895273808314,\n",
       "  0.42674539512774806,\n",
       "  0.3839674944938103,\n",
       "  None)}"
      ]
     },
     "execution_count": 138,
     "metadata": {},
     "output_type": "execute_result"
    }
   ],
   "source": [
    "result_dict"
   ]
  },
  {
   "cell_type": "code",
   "execution_count": 146,
   "id": "70b81bb9",
   "metadata": {
    "id": "cFyjW0BR-q0d"
   },
   "outputs": [],
   "source": [
    "rdf = pd.DataFrame(result_dict)\n",
    "resultdf = np.transpose(rdf.drop(3))\n",
    "resultdf.columns =['Precision', 'Recall','F1-Score']"
   ]
  },
  {
   "cell_type": "code",
   "execution_count": 145,
   "id": "e759a579",
   "metadata": {},
   "outputs": [
    {
     "data": {
      "text/plain": [
       "{'LR': (0.4725600510253201, 0.43617021276595747, 0.42257361170367347, None),\n",
       " 'LR_LSA': (0.535044485190062, 0.46808510638297873, 0.45007872744155997, None),\n",
       " 'NB_Gaussian': (0.4228030303030303,\n",
       "  0.3566250742721331,\n",
       "  0.32049900918753377,\n",
       "  None),\n",
       " 'NB_Mulinomial': (0.37348008385744236,\n",
       "  0.3209447415329768,\n",
       "  0.2656141386320414,\n",
       "  None),\n",
       " 'RF': (0.45051707551707554, 0.4514928698752228, 0.42647493163489036, None),\n",
       " 'RF_Tuned': (0.46315673705379584,\n",
       "  0.46521093285799164,\n",
       "  0.41444430221311945,\n",
       "  None),\n",
       " 'RF_LSA': (0.44215914804150097,\n",
       "  0.4056595365418895,\n",
       "  0.33296358290380285,\n",
       "  None),\n",
       " 'RF_LSA_Tuned': (0.4458774250440917,\n",
       "  0.38915626856803326,\n",
       "  0.34283457874711026,\n",
       "  None),\n",
       " 'XBG': (0.34358003108003105, 0.3484254307783719, 0.32776401158754104, None),\n",
       " 'XBG_Tuned': (0.37820790320790326,\n",
       "  0.3763294711824124,\n",
       "  0.36030493358079557,\n",
       "  None),\n",
       " 'XBG_LSA': (0.38507547203199377,\n",
       "  0.4125148544266191,\n",
       "  0.3645016898306372,\n",
       "  None),\n",
       " 'XBG_LSA_Tuned': (0.43775807525807525,\n",
       "  0.40325311942959,\n",
       "  0.3798308732277012,\n",
       "  None),\n",
       " 'SVM_Tuned': (0.4550763048441067,\n",
       "  0.449212715389186,\n",
       "  0.42232142857142857,\n",
       "  None),\n",
       " 'SVM_LSA': (0.43099895273808314,\n",
       "  0.42674539512774806,\n",
       "  0.3839674944938103,\n",
       "  None),\n",
       " 'BERT': (0.381, 0.313, 0.307, None)}"
      ]
     },
     "execution_count": 145,
     "metadata": {},
     "output_type": "execute_result"
    }
   ],
   "source": [
    "result_dict['BERT'] = (.381,.313,.307,None)\n",
    "result_dict"
   ]
  },
  {
   "cell_type": "code",
   "execution_count": 148,
   "id": "d710bf13",
   "metadata": {
    "id": "eZ0IXqdvAcYW"
   },
   "outputs": [],
   "source": [
    "resultdf['Accuracy'] = [.447,.436,.372,.394,.447,.404,.383,.479,.457,.404,.447,.426,.426,.404,.333]"
   ]
  },
  {
   "cell_type": "code",
   "execution_count": null,
   "id": "5bee597b",
   "metadata": {
    "id": "KHKefLiAUbQk"
   },
   "outputs": [],
   "source": [
    "!pip install dataframe_image"
   ]
  },
  {
   "cell_type": "code",
   "execution_count": 150,
   "id": "797238e8",
   "metadata": {},
   "outputs": [
    {
     "data": {
      "text/html": [
       "<style  type=\"text/css\" >\n",
       "#T_5894b5b4_a7bf_11ec_a162_a86daa542cf1row0_col0{\n",
       "            background-color:  #2383ba;\n",
       "            color:  #000000;\n",
       "            background-color:  #2383ba;\n",
       "            color:  #000000;\n",
       "        }#T_5894b5b4_a7bf_11ec_a162_a86daa542cf1row0_col1{\n",
       "            background-color:  #0568a3;\n",
       "            color:  #f1f1f1;\n",
       "            background-color:  #0568a3;\n",
       "            color:  #f1f1f1;\n",
       "        }#T_5894b5b4_a7bf_11ec_a162_a86daa542cf1row0_col2,#T_5894b5b4_a7bf_11ec_a162_a86daa542cf1row8_col3,#T_5894b5b4_a7bf_11ec_a162_a86daa542cf1row12_col2{\n",
       "            background-color:  #045e94;\n",
       "            color:  #f1f1f1;\n",
       "            background-color:  #045e94;\n",
       "            color:  #f1f1f1;\n",
       "        }#T_5894b5b4_a7bf_11ec_a162_a86daa542cf1row0_col3,#T_5894b5b4_a7bf_11ec_a162_a86daa542cf1row4_col3,#T_5894b5b4_a7bf_11ec_a162_a86daa542cf1row10_col3{\n",
       "            background-color:  #056ba7;\n",
       "            color:  #f1f1f1;\n",
       "            background-color:  #056ba7;\n",
       "            color:  #f1f1f1;\n",
       "        }#T_5894b5b4_a7bf_11ec_a162_a86daa542cf1row1_col0,#T_5894b5b4_a7bf_11ec_a162_a86daa542cf1row1_col1,#T_5894b5b4_a7bf_11ec_a162_a86daa542cf1row1_col2,#T_5894b5b4_a7bf_11ec_a162_a86daa542cf1row7_col3{\n",
       "            background-color:  #023858;\n",
       "            color:  #f1f1f1;\n",
       "            background-color:  #023858;\n",
       "            color:  #f1f1f1;\n",
       "        }#T_5894b5b4_a7bf_11ec_a162_a86daa542cf1row1_col3{\n",
       "            background-color:  #167bb6;\n",
       "            color:  #000000;\n",
       "            background-color:  #167bb6;\n",
       "            color:  #000000;\n",
       "        }#T_5894b5b4_a7bf_11ec_a162_a86daa542cf1row2_col0{\n",
       "            background-color:  #97b7d7;\n",
       "            color:  #000000;\n",
       "            background-color:  #97b7d7;\n",
       "            color:  #000000;\n",
       "        }#T_5894b5b4_a7bf_11ec_a162_a86daa542cf1row2_col1{\n",
       "            background-color:  #c5cce3;\n",
       "            color:  #000000;\n",
       "            background-color:  #c5cce3;\n",
       "            color:  #000000;\n",
       "        }#T_5894b5b4_a7bf_11ec_a162_a86daa542cf1row2_col2{\n",
       "            background-color:  #c0c9e2;\n",
       "            color:  #000000;\n",
       "            background-color:  #c0c9e2;\n",
       "            color:  #000000;\n",
       "        }#T_5894b5b4_a7bf_11ec_a162_a86daa542cf1row2_col3{\n",
       "            background-color:  #cacee5;\n",
       "            color:  #000000;\n",
       "            background-color:  #cacee5;\n",
       "            color:  #000000;\n",
       "        }#T_5894b5b4_a7bf_11ec_a162_a86daa542cf1row3_col0{\n",
       "            background-color:  #e6e2ef;\n",
       "            color:  #000000;\n",
       "            background-color:  #e6e2ef;\n",
       "            color:  #000000;\n",
       "        }#T_5894b5b4_a7bf_11ec_a162_a86daa542cf1row3_col1{\n",
       "            background-color:  #f7f0f7;\n",
       "            color:  #000000;\n",
       "            background-color:  #f7f0f7;\n",
       "            color:  #000000;\n",
       "        }#T_5894b5b4_a7bf_11ec_a162_a86daa542cf1row3_col2,#T_5894b5b4_a7bf_11ec_a162_a86daa542cf1row8_col0,#T_5894b5b4_a7bf_11ec_a162_a86daa542cf1row14_col1,#T_5894b5b4_a7bf_11ec_a162_a86daa542cf1row14_col3{\n",
       "            background-color:  #fff7fb;\n",
       "            color:  #000000;\n",
       "            background-color:  #fff7fb;\n",
       "            color:  #000000;\n",
       "        }#T_5894b5b4_a7bf_11ec_a162_a86daa542cf1row3_col3{\n",
       "            background-color:  #96b6d7;\n",
       "            color:  #000000;\n",
       "            background-color:  #96b6d7;\n",
       "            color:  #000000;\n",
       "        }#T_5894b5b4_a7bf_11ec_a162_a86daa542cf1row4_col0{\n",
       "            background-color:  #589ec8;\n",
       "            color:  #000000;\n",
       "            background-color:  #589ec8;\n",
       "            color:  #000000;\n",
       "        }#T_5894b5b4_a7bf_11ec_a162_a86daa542cf1row4_col1{\n",
       "            background-color:  #045585;\n",
       "            color:  #f1f1f1;\n",
       "            background-color:  #045585;\n",
       "            color:  #f1f1f1;\n",
       "        }#T_5894b5b4_a7bf_11ec_a162_a86daa542cf1row4_col2{\n",
       "            background-color:  #045a8d;\n",
       "            color:  #f1f1f1;\n",
       "            background-color:  #045a8d;\n",
       "            color:  #f1f1f1;\n",
       "        }#T_5894b5b4_a7bf_11ec_a162_a86daa542cf1row5_col0{\n",
       "            background-color:  #3790c0;\n",
       "            color:  #000000;\n",
       "            background-color:  #3790c0;\n",
       "            color:  #000000;\n",
       "        }#T_5894b5b4_a7bf_11ec_a162_a86daa542cf1row5_col1{\n",
       "            background-color:  #023c5f;\n",
       "            color:  #f1f1f1;\n",
       "            background-color:  #023c5f;\n",
       "            color:  #f1f1f1;\n",
       "        }#T_5894b5b4_a7bf_11ec_a162_a86daa542cf1row5_col2{\n",
       "            background-color:  #0566a0;\n",
       "            color:  #f1f1f1;\n",
       "            background-color:  #0566a0;\n",
       "            color:  #f1f1f1;\n",
       "        }#T_5894b5b4_a7bf_11ec_a162_a86daa542cf1row5_col3,#T_5894b5b4_a7bf_11ec_a162_a86daa542cf1row9_col3,#T_5894b5b4_a7bf_11ec_a162_a86daa542cf1row13_col3{\n",
       "            background-color:  #79abd0;\n",
       "            color:  #000000;\n",
       "            background-color:  #79abd0;\n",
       "            color:  #000000;\n",
       "        }#T_5894b5b4_a7bf_11ec_a162_a86daa542cf1row6_col0,#T_5894b5b4_a7bf_11ec_a162_a86daa542cf1row9_col2{\n",
       "            background-color:  #6da6cd;\n",
       "            color:  #000000;\n",
       "            background-color:  #6da6cd;\n",
       "            color:  #000000;\n",
       "        }#T_5894b5b4_a7bf_11ec_a162_a86daa542cf1row6_col1{\n",
       "            background-color:  #4496c3;\n",
       "            color:  #000000;\n",
       "            background-color:  #4496c3;\n",
       "            color:  #000000;\n",
       "        }#T_5894b5b4_a7bf_11ec_a162_a86daa542cf1row6_col2{\n",
       "            background-color:  #a9bfdc;\n",
       "            color:  #000000;\n",
       "            background-color:  #a9bfdc;\n",
       "            color:  #000000;\n",
       "        }#T_5894b5b4_a7bf_11ec_a162_a86daa542cf1row6_col3{\n",
       "            background-color:  #b1c2de;\n",
       "            color:  #000000;\n",
       "            background-color:  #b1c2de;\n",
       "            color:  #000000;\n",
       "        }#T_5894b5b4_a7bf_11ec_a162_a86daa542cf1row7_col0{\n",
       "            background-color:  #63a2cb;\n",
       "            color:  #000000;\n",
       "            background-color:  #63a2cb;\n",
       "            color:  #000000;\n",
       "        }#T_5894b5b4_a7bf_11ec_a162_a86daa542cf1row7_col1,#T_5894b5b4_a7bf_11ec_a162_a86daa542cf1row11_col0{\n",
       "            background-color:  #78abd0;\n",
       "            color:  #000000;\n",
       "            background-color:  #78abd0;\n",
       "            color:  #000000;\n",
       "        }#T_5894b5b4_a7bf_11ec_a162_a86daa542cf1row7_col2{\n",
       "            background-color:  #94b6d7;\n",
       "            color:  #000000;\n",
       "            background-color:  #94b6d7;\n",
       "            color:  #000000;\n",
       "        }#T_5894b5b4_a7bf_11ec_a162_a86daa542cf1row8_col1{\n",
       "            background-color:  #d5d5e8;\n",
       "            color:  #000000;\n",
       "            background-color:  #d5d5e8;\n",
       "            color:  #000000;\n",
       "        }#T_5894b5b4_a7bf_11ec_a162_a86daa542cf1row8_col2{\n",
       "            background-color:  #b3c3de;\n",
       "            color:  #000000;\n",
       "            background-color:  #b3c3de;\n",
       "            color:  #000000;\n",
       "        }#T_5894b5b4_a7bf_11ec_a162_a86daa542cf1row9_col0{\n",
       "            background-color:  #e0dded;\n",
       "            color:  #000000;\n",
       "            background-color:  #e0dded;\n",
       "            color:  #000000;\n",
       "        }#T_5894b5b4_a7bf_11ec_a162_a86daa542cf1row9_col1{\n",
       "            background-color:  #99b8d8;\n",
       "            color:  #000000;\n",
       "            background-color:  #99b8d8;\n",
       "            color:  #000000;\n",
       "        }#T_5894b5b4_a7bf_11ec_a162_a86daa542cf1row10_col0{\n",
       "            background-color:  #d8d7e9;\n",
       "            color:  #000000;\n",
       "            background-color:  #d8d7e9;\n",
       "            color:  #000000;\n",
       "        }#T_5894b5b4_a7bf_11ec_a162_a86daa542cf1row10_col1,#T_5894b5b4_a7bf_11ec_a162_a86daa542cf1row13_col2{\n",
       "            background-color:  #2f8bbe;\n",
       "            color:  #000000;\n",
       "            background-color:  #2f8bbe;\n",
       "            color:  #000000;\n",
       "        }#T_5894b5b4_a7bf_11ec_a162_a86daa542cf1row10_col2{\n",
       "            background-color:  #62a2cb;\n",
       "            color:  #000000;\n",
       "            background-color:  #62a2cb;\n",
       "            color:  #000000;\n",
       "        }#T_5894b5b4_a7bf_11ec_a162_a86daa542cf1row11_col1{\n",
       "            background-color:  #4c99c5;\n",
       "            color:  #000000;\n",
       "            background-color:  #4c99c5;\n",
       "            color:  #000000;\n",
       "        }#T_5894b5b4_a7bf_11ec_a162_a86daa542cf1row11_col2{\n",
       "            background-color:  #3991c1;\n",
       "            color:  #000000;\n",
       "            background-color:  #3991c1;\n",
       "            color:  #000000;\n",
       "        }#T_5894b5b4_a7bf_11ec_a162_a86daa542cf1row11_col3,#T_5894b5b4_a7bf_11ec_a162_a86daa542cf1row12_col3{\n",
       "            background-color:  #308cbe;\n",
       "            color:  #000000;\n",
       "            background-color:  #308cbe;\n",
       "            color:  #000000;\n",
       "        }#T_5894b5b4_a7bf_11ec_a162_a86daa542cf1row12_col0{\n",
       "            background-color:  #4a98c5;\n",
       "            color:  #000000;\n",
       "            background-color:  #4a98c5;\n",
       "            color:  #000000;\n",
       "        }#T_5894b5b4_a7bf_11ec_a162_a86daa542cf1row12_col1{\n",
       "            background-color:  #04598c;\n",
       "            color:  #f1f1f1;\n",
       "            background-color:  #04598c;\n",
       "            color:  #f1f1f1;\n",
       "        }#T_5894b5b4_a7bf_11ec_a162_a86daa542cf1row13_col0{\n",
       "            background-color:  #86b0d3;\n",
       "            color:  #000000;\n",
       "            background-color:  #86b0d3;\n",
       "            color:  #000000;\n",
       "        }#T_5894b5b4_a7bf_11ec_a162_a86daa542cf1row13_col1{\n",
       "            background-color:  #0c74b2;\n",
       "            color:  #f1f1f1;\n",
       "            background-color:  #0c74b2;\n",
       "            color:  #f1f1f1;\n",
       "        }#T_5894b5b4_a7bf_11ec_a162_a86daa542cf1row14_col0{\n",
       "            background-color:  #dcdaeb;\n",
       "            color:  #000000;\n",
       "            background-color:  #dcdaeb;\n",
       "            color:  #000000;\n",
       "        }#T_5894b5b4_a7bf_11ec_a162_a86daa542cf1row14_col2{\n",
       "            background-color:  #d6d6e9;\n",
       "            color:  #000000;\n",
       "            background-color:  #d6d6e9;\n",
       "            color:  #000000;\n",
       "        }</style><table id=\"T_5894b5b4_a7bf_11ec_a162_a86daa542cf1\" ><thead>    <tr>        <th class=\"blank level0\" ></th>        <th class=\"col_heading level0 col0\" >Precision</th>        <th class=\"col_heading level0 col1\" >Recall</th>        <th class=\"col_heading level0 col2\" >F1-Score</th>        <th class=\"col_heading level0 col3\" >Accuracy</th>    </tr></thead><tbody>\n",
       "                <tr>\n",
       "                        <th id=\"T_5894b5b4_a7bf_11ec_a162_a86daa542cf1level0_row0\" class=\"row_heading level0 row0\" >LR</th>\n",
       "                        <td id=\"T_5894b5b4_a7bf_11ec_a162_a86daa542cf1row0_col0\" class=\"data row0 col0\" >0.472560</td>\n",
       "                        <td id=\"T_5894b5b4_a7bf_11ec_a162_a86daa542cf1row0_col1\" class=\"data row0 col1\" >0.436170</td>\n",
       "                        <td id=\"T_5894b5b4_a7bf_11ec_a162_a86daa542cf1row0_col2\" class=\"data row0 col2\" >0.422574</td>\n",
       "                        <td id=\"T_5894b5b4_a7bf_11ec_a162_a86daa542cf1row0_col3\" class=\"data row0 col3\" >0.447000</td>\n",
       "            </tr>\n",
       "            <tr>\n",
       "                        <th id=\"T_5894b5b4_a7bf_11ec_a162_a86daa542cf1level0_row1\" class=\"row_heading level0 row1\" >LR_LSA</th>\n",
       "                        <td id=\"T_5894b5b4_a7bf_11ec_a162_a86daa542cf1row1_col0\" class=\"data row1 col0\" >0.535044</td>\n",
       "                        <td id=\"T_5894b5b4_a7bf_11ec_a162_a86daa542cf1row1_col1\" class=\"data row1 col1\" >0.468085</td>\n",
       "                        <td id=\"T_5894b5b4_a7bf_11ec_a162_a86daa542cf1row1_col2\" class=\"data row1 col2\" >0.450079</td>\n",
       "                        <td id=\"T_5894b5b4_a7bf_11ec_a162_a86daa542cf1row1_col3\" class=\"data row1 col3\" >0.436000</td>\n",
       "            </tr>\n",
       "            <tr>\n",
       "                        <th id=\"T_5894b5b4_a7bf_11ec_a162_a86daa542cf1level0_row2\" class=\"row_heading level0 row2\" >NB_Gaussian</th>\n",
       "                        <td id=\"T_5894b5b4_a7bf_11ec_a162_a86daa542cf1row2_col0\" class=\"data row2 col0\" >0.422803</td>\n",
       "                        <td id=\"T_5894b5b4_a7bf_11ec_a162_a86daa542cf1row2_col1\" class=\"data row2 col1\" >0.356625</td>\n",
       "                        <td id=\"T_5894b5b4_a7bf_11ec_a162_a86daa542cf1row2_col2\" class=\"data row2 col2\" >0.320499</td>\n",
       "                        <td id=\"T_5894b5b4_a7bf_11ec_a162_a86daa542cf1row2_col3\" class=\"data row2 col3\" >0.372000</td>\n",
       "            </tr>\n",
       "            <tr>\n",
       "                        <th id=\"T_5894b5b4_a7bf_11ec_a162_a86daa542cf1level0_row3\" class=\"row_heading level0 row3\" >NB_Mulinomial</th>\n",
       "                        <td id=\"T_5894b5b4_a7bf_11ec_a162_a86daa542cf1row3_col0\" class=\"data row3 col0\" >0.373480</td>\n",
       "                        <td id=\"T_5894b5b4_a7bf_11ec_a162_a86daa542cf1row3_col1\" class=\"data row3 col1\" >0.320945</td>\n",
       "                        <td id=\"T_5894b5b4_a7bf_11ec_a162_a86daa542cf1row3_col2\" class=\"data row3 col2\" >0.265614</td>\n",
       "                        <td id=\"T_5894b5b4_a7bf_11ec_a162_a86daa542cf1row3_col3\" class=\"data row3 col3\" >0.394000</td>\n",
       "            </tr>\n",
       "            <tr>\n",
       "                        <th id=\"T_5894b5b4_a7bf_11ec_a162_a86daa542cf1level0_row4\" class=\"row_heading level0 row4\" >RF</th>\n",
       "                        <td id=\"T_5894b5b4_a7bf_11ec_a162_a86daa542cf1row4_col0\" class=\"data row4 col0\" >0.450517</td>\n",
       "                        <td id=\"T_5894b5b4_a7bf_11ec_a162_a86daa542cf1row4_col1\" class=\"data row4 col1\" >0.451493</td>\n",
       "                        <td id=\"T_5894b5b4_a7bf_11ec_a162_a86daa542cf1row4_col2\" class=\"data row4 col2\" >0.426475</td>\n",
       "                        <td id=\"T_5894b5b4_a7bf_11ec_a162_a86daa542cf1row4_col3\" class=\"data row4 col3\" >0.447000</td>\n",
       "            </tr>\n",
       "            <tr>\n",
       "                        <th id=\"T_5894b5b4_a7bf_11ec_a162_a86daa542cf1level0_row5\" class=\"row_heading level0 row5\" >RF_Tuned</th>\n",
       "                        <td id=\"T_5894b5b4_a7bf_11ec_a162_a86daa542cf1row5_col0\" class=\"data row5 col0\" >0.463157</td>\n",
       "                        <td id=\"T_5894b5b4_a7bf_11ec_a162_a86daa542cf1row5_col1\" class=\"data row5 col1\" >0.465211</td>\n",
       "                        <td id=\"T_5894b5b4_a7bf_11ec_a162_a86daa542cf1row5_col2\" class=\"data row5 col2\" >0.414444</td>\n",
       "                        <td id=\"T_5894b5b4_a7bf_11ec_a162_a86daa542cf1row5_col3\" class=\"data row5 col3\" >0.404000</td>\n",
       "            </tr>\n",
       "            <tr>\n",
       "                        <th id=\"T_5894b5b4_a7bf_11ec_a162_a86daa542cf1level0_row6\" class=\"row_heading level0 row6\" >RF_LSA</th>\n",
       "                        <td id=\"T_5894b5b4_a7bf_11ec_a162_a86daa542cf1row6_col0\" class=\"data row6 col0\" >0.442159</td>\n",
       "                        <td id=\"T_5894b5b4_a7bf_11ec_a162_a86daa542cf1row6_col1\" class=\"data row6 col1\" >0.405660</td>\n",
       "                        <td id=\"T_5894b5b4_a7bf_11ec_a162_a86daa542cf1row6_col2\" class=\"data row6 col2\" >0.332964</td>\n",
       "                        <td id=\"T_5894b5b4_a7bf_11ec_a162_a86daa542cf1row6_col3\" class=\"data row6 col3\" >0.383000</td>\n",
       "            </tr>\n",
       "            <tr>\n",
       "                        <th id=\"T_5894b5b4_a7bf_11ec_a162_a86daa542cf1level0_row7\" class=\"row_heading level0 row7\" >RF_LSA_Tuned</th>\n",
       "                        <td id=\"T_5894b5b4_a7bf_11ec_a162_a86daa542cf1row7_col0\" class=\"data row7 col0\" >0.445877</td>\n",
       "                        <td id=\"T_5894b5b4_a7bf_11ec_a162_a86daa542cf1row7_col1\" class=\"data row7 col1\" >0.389156</td>\n",
       "                        <td id=\"T_5894b5b4_a7bf_11ec_a162_a86daa542cf1row7_col2\" class=\"data row7 col2\" >0.342835</td>\n",
       "                        <td id=\"T_5894b5b4_a7bf_11ec_a162_a86daa542cf1row7_col3\" class=\"data row7 col3\" >0.479000</td>\n",
       "            </tr>\n",
       "            <tr>\n",
       "                        <th id=\"T_5894b5b4_a7bf_11ec_a162_a86daa542cf1level0_row8\" class=\"row_heading level0 row8\" >XBG</th>\n",
       "                        <td id=\"T_5894b5b4_a7bf_11ec_a162_a86daa542cf1row8_col0\" class=\"data row8 col0\" >0.343580</td>\n",
       "                        <td id=\"T_5894b5b4_a7bf_11ec_a162_a86daa542cf1row8_col1\" class=\"data row8 col1\" >0.348425</td>\n",
       "                        <td id=\"T_5894b5b4_a7bf_11ec_a162_a86daa542cf1row8_col2\" class=\"data row8 col2\" >0.327764</td>\n",
       "                        <td id=\"T_5894b5b4_a7bf_11ec_a162_a86daa542cf1row8_col3\" class=\"data row8 col3\" >0.457000</td>\n",
       "            </tr>\n",
       "            <tr>\n",
       "                        <th id=\"T_5894b5b4_a7bf_11ec_a162_a86daa542cf1level0_row9\" class=\"row_heading level0 row9\" >XBG_Tuned</th>\n",
       "                        <td id=\"T_5894b5b4_a7bf_11ec_a162_a86daa542cf1row9_col0\" class=\"data row9 col0\" >0.378208</td>\n",
       "                        <td id=\"T_5894b5b4_a7bf_11ec_a162_a86daa542cf1row9_col1\" class=\"data row9 col1\" >0.376329</td>\n",
       "                        <td id=\"T_5894b5b4_a7bf_11ec_a162_a86daa542cf1row9_col2\" class=\"data row9 col2\" >0.360305</td>\n",
       "                        <td id=\"T_5894b5b4_a7bf_11ec_a162_a86daa542cf1row9_col3\" class=\"data row9 col3\" >0.404000</td>\n",
       "            </tr>\n",
       "            <tr>\n",
       "                        <th id=\"T_5894b5b4_a7bf_11ec_a162_a86daa542cf1level0_row10\" class=\"row_heading level0 row10\" >XBG_LSA</th>\n",
       "                        <td id=\"T_5894b5b4_a7bf_11ec_a162_a86daa542cf1row10_col0\" class=\"data row10 col0\" >0.385075</td>\n",
       "                        <td id=\"T_5894b5b4_a7bf_11ec_a162_a86daa542cf1row10_col1\" class=\"data row10 col1\" >0.412515</td>\n",
       "                        <td id=\"T_5894b5b4_a7bf_11ec_a162_a86daa542cf1row10_col2\" class=\"data row10 col2\" >0.364502</td>\n",
       "                        <td id=\"T_5894b5b4_a7bf_11ec_a162_a86daa542cf1row10_col3\" class=\"data row10 col3\" >0.447000</td>\n",
       "            </tr>\n",
       "            <tr>\n",
       "                        <th id=\"T_5894b5b4_a7bf_11ec_a162_a86daa542cf1level0_row11\" class=\"row_heading level0 row11\" >XBG_LSA_Tuned</th>\n",
       "                        <td id=\"T_5894b5b4_a7bf_11ec_a162_a86daa542cf1row11_col0\" class=\"data row11 col0\" >0.437758</td>\n",
       "                        <td id=\"T_5894b5b4_a7bf_11ec_a162_a86daa542cf1row11_col1\" class=\"data row11 col1\" >0.403253</td>\n",
       "                        <td id=\"T_5894b5b4_a7bf_11ec_a162_a86daa542cf1row11_col2\" class=\"data row11 col2\" >0.379831</td>\n",
       "                        <td id=\"T_5894b5b4_a7bf_11ec_a162_a86daa542cf1row11_col3\" class=\"data row11 col3\" >0.426000</td>\n",
       "            </tr>\n",
       "            <tr>\n",
       "                        <th id=\"T_5894b5b4_a7bf_11ec_a162_a86daa542cf1level0_row12\" class=\"row_heading level0 row12\" >SVM_Tuned</th>\n",
       "                        <td id=\"T_5894b5b4_a7bf_11ec_a162_a86daa542cf1row12_col0\" class=\"data row12 col0\" >0.455076</td>\n",
       "                        <td id=\"T_5894b5b4_a7bf_11ec_a162_a86daa542cf1row12_col1\" class=\"data row12 col1\" >0.449213</td>\n",
       "                        <td id=\"T_5894b5b4_a7bf_11ec_a162_a86daa542cf1row12_col2\" class=\"data row12 col2\" >0.422321</td>\n",
       "                        <td id=\"T_5894b5b4_a7bf_11ec_a162_a86daa542cf1row12_col3\" class=\"data row12 col3\" >0.426000</td>\n",
       "            </tr>\n",
       "            <tr>\n",
       "                        <th id=\"T_5894b5b4_a7bf_11ec_a162_a86daa542cf1level0_row13\" class=\"row_heading level0 row13\" >SVM_LSA</th>\n",
       "                        <td id=\"T_5894b5b4_a7bf_11ec_a162_a86daa542cf1row13_col0\" class=\"data row13 col0\" >0.430999</td>\n",
       "                        <td id=\"T_5894b5b4_a7bf_11ec_a162_a86daa542cf1row13_col1\" class=\"data row13 col1\" >0.426745</td>\n",
       "                        <td id=\"T_5894b5b4_a7bf_11ec_a162_a86daa542cf1row13_col2\" class=\"data row13 col2\" >0.383967</td>\n",
       "                        <td id=\"T_5894b5b4_a7bf_11ec_a162_a86daa542cf1row13_col3\" class=\"data row13 col3\" >0.404000</td>\n",
       "            </tr>\n",
       "            <tr>\n",
       "                        <th id=\"T_5894b5b4_a7bf_11ec_a162_a86daa542cf1level0_row14\" class=\"row_heading level0 row14\" >BERT</th>\n",
       "                        <td id=\"T_5894b5b4_a7bf_11ec_a162_a86daa542cf1row14_col0\" class=\"data row14 col0\" >0.381000</td>\n",
       "                        <td id=\"T_5894b5b4_a7bf_11ec_a162_a86daa542cf1row14_col1\" class=\"data row14 col1\" >0.313000</td>\n",
       "                        <td id=\"T_5894b5b4_a7bf_11ec_a162_a86daa542cf1row14_col2\" class=\"data row14 col2\" >0.307000</td>\n",
       "                        <td id=\"T_5894b5b4_a7bf_11ec_a162_a86daa542cf1row14_col3\" class=\"data row14 col3\" >0.333000</td>\n",
       "            </tr>\n",
       "    </tbody></table>"
      ],
      "text/plain": [
       "<pandas.io.formats.style.Styler at 0x1bf81e11b00>"
      ]
     },
     "execution_count": 150,
     "metadata": {},
     "output_type": "execute_result"
    }
   ],
   "source": [
    "df_styled"
   ]
  },
  {
   "cell_type": "code",
   "execution_count": 149,
   "id": "c99ea249",
   "metadata": {
    "id": "Pzag3mHVUY-X"
   },
   "outputs": [],
   "source": [
    "import dataframe_image as dfi\n",
    "df_styled = resultdf.style.background_gradient()\n",
    "dfi.export(df_styled,'Table.png')\n"
   ]
  },
  {
   "cell_type": "code",
   "execution_count": null,
   "id": "f7ca5140",
   "metadata": {
    "id": "iVjKvx2t_7w5"
   },
   "outputs": [],
   "source": [
    "from pandas.plotting import table\n",
    "ax = plt.subplot(111, frame_on=False) # no visible frame\n",
    "ax.xaxis.set_visible(False)  # hide the x axis\n",
    "ax.yaxis.set_visible(False) \n",
    "# print(tabulate(resultdf,tablefmt='fancy_grid',headers = ['Model','Precision', 'Recall','F1-Score','Accuracy'],showindex =True))\n",
    "table(ax,resultdf)\n",
    "plt.savefig('/content/drive/MyDrive/SongClassification[Genre,Lyrics]/archive/Table.png')\n",
    "# with open('table.txt', 'w') as f:\n",
    "    # f.write(tabulate(tabulate(resultdf,tablefmt='fancy_grid',headers = ['Model','Precision', 'Recall','F1-Score','Accuracy'],showindex =True)))"
   ]
  },
  {
   "cell_type": "code",
   "execution_count": null,
   "id": "1c8db660",
   "metadata": {
    "id": "cf799724"
   },
   "outputs": [],
   "source": [
    "# print(tabulate(table,tablefmt='fancy_grid', headers='firstrow',showindex =True))"
   ]
  },
  {
   "cell_type": "markdown",
   "id": "5b2ae8f0",
   "metadata": {
    "id": "fb11f0a8"
   },
   "source": [
    "### Use eli5 to view"
   ]
  },
  {
   "cell_type": "code",
   "execution_count": null,
   "id": "671f2322",
   "metadata": {
    "id": "X_NLmeAA8gI4"
   },
   "outputs": [],
   "source": [
    "# !pip install eli5"
   ]
  },
  {
   "cell_type": "code",
   "execution_count": null,
   "id": "e70bb9b1",
   "metadata": {
    "id": "cef0bf42",
    "scrolled": true
   },
   "outputs": [],
   "source": [
    "####Eli5 viewer\n",
    "import eli5\n",
    "eli5.show_weights(estimator=logit3, \n",
    "                  feature_names= list(vectorizer.get_feature_names()),\n",
    "                 top=(10, 5))"
   ]
  },
  {
   "cell_type": "code",
   "execution_count": null,
   "id": "bbd713c3",
   "metadata": {
    "id": "j-zBwKWrxuwW"
   },
   "outputs": [],
   "source": [
    "# from eli5 import show_weights\n",
    "# from eli5.sklearn import PermutationImportance"
   ]
  },
  {
   "cell_type": "code",
   "execution_count": null,
   "id": "ef9921d9",
   "metadata": {
    "id": "cSAR-8c3zITt"
   },
   "outputs": [],
   "source": [
    "# X_test_textUS"
   ]
  },
  {
   "cell_type": "code",
   "execution_count": null,
   "id": "858100e1",
   "metadata": {
    "id": "2f879276"
   },
   "outputs": [],
   "source": [
    "# ####Eli5 viewer\n",
    "# import eli5\n",
    "# eli5.show_weights(estimator=xgbmodel, \n",
    "#                   feature_names= list(vectorizer.get_feature_names()),\n",
    "#                  top=(50, 5))"
   ]
  },
  {
   "cell_type": "code",
   "execution_count": null,
   "id": "eb1c956b",
   "metadata": {
    "id": "0635d3e6"
   },
   "outputs": [],
   "source": [
    "####Eli5 viewer\n",
    "# import eli5\n",
    "# eli5.show_weights(estimator=rfclf, \n",
    "#                   feature_names= list(vectorizer.get_feature_names()),\n",
    "#                  top=(50, 5))"
   ]
  },
  {
   "cell_type": "markdown",
   "id": "bb89f1f6",
   "metadata": {
    "id": "e37d338a"
   },
   "source": [
    "## Song Genre Classification using BERT"
   ]
  },
  {
   "cell_type": "markdown",
   "id": "43c9a20f",
   "metadata": {
    "id": "30ebf557"
   },
   "source": [
    "Since the words used in songs are of different genres are very similar but the meaning of these words might differ in each of these genres.\n",
    "To tackle this problem we can iuntroduce sequential learning models of whcih Bidirectional Encoder Representations from Transformers (BERT) which is a transformer-based machine learning technique for NLP.\n",
    "\n",
    "song genre is very correlatted to the certain sentences and is dependant on the sentence"
   ]
  },
  {
   "cell_type": "markdown",
   "id": "3c416a35",
   "metadata": {
    "id": "d8790d6a"
   },
   "source": [
    "BERT has BERT base and BERT large .\n",
    "\n",
    "Base has 12 encoders and BERT large has 24.\n",
    "\n",
    "__Masked Language Model:__\n",
    "\n",
    "\n",
    "A saved Bert model which has 12 layers and 768 hidden states is used.\n",
    "A HubKeras layer will be used to use the over the bert preprocessor and encoder.\n",
    "The preprocessed returns the output in the form of a dictionary so we need to use pooled_output in order to get encoding for the entire sentence.\n",
    "The only limitation here is each of the lyrics is more than the capacity of BERT as it handles only 512 sentences and the lyrics of each song is much higher than that.\n",
    "Due to this we might get a reduced accuracy of the model.\n",
    "\n"
   ]
  },
  {
   "cell_type": "markdown",
   "id": "e48e17c5",
   "metadata": {
    "id": "db8e1c01"
   },
   "source": [
    "## Transformers over LSTM "
   ]
  },
  {
   "cell_type": "markdown",
   "id": "567cda4d",
   "metadata": {
    "id": "8e312343"
   },
   "source": [
    "LSTM is not used as they are very slow adn they are not truly bidirectional.\n",
    "However transformers adresses these concerns as the conext is learnet simultaneouly from both the directions.<br>\n",
    "It generateds embeddings simultaneously.<br>\n",
    "If we stack decoders we get GPT and conversely if we stack the encoders we get BERT."
   ]
  },
  {
   "cell_type": "markdown",
   "id": "0895bda7",
   "metadata": {
    "id": "9c6ad695"
   },
   "source": [
    "### BERT saved model\n",
    "\n"
   ]
  },
  {
   "cell_type": "code",
   "execution_count": null,
   "id": "35848c9b",
   "metadata": {
    "id": "5ec971c1"
   },
   "outputs": [],
   "source": [
    "encoder_url = 'https://tfhub.dev/tensorflow/bert_en_uncased_L-12_H-768_A-12/4'\n",
    "preprocess_url = 'https://tfhub.dev/tensorflow/bert_en_uncased_preprocess/3'"
   ]
  },
  {
   "cell_type": "code",
   "execution_count": null,
   "id": "be719212",
   "metadata": {
    "id": "614660c5"
   },
   "outputs": [],
   "source": [
    "import tensorflow as tf\n",
    "import tensorflow_hub as hub\n",
    "import tensorflow_text as text"
   ]
  },
  {
   "cell_type": "code",
   "execution_count": null,
   "id": "033f4bc8",
   "metadata": {
    "id": "kwygEx7PUmaY"
   },
   "outputs": [],
   "source": [
    "##Setting y to the encoded y labels \n",
    "X_under = Undersampleddf['Lyric'].apply(format_str)\n",
    "y_under = Undersampleddf['label']"
   ]
  },
  {
   "cell_type": "code",
   "execution_count": null,
   "id": "2db260fb",
   "metadata": {
    "id": "ZFj-t7qgUsXE"
   },
   "outputs": [],
   "source": [
    "### Test Train split unbalanced\n",
    "X_trainUS, X_testUS, Con_y_trainUS, Con_y_testUS = train_test_split(X_under, y_under, test_size=0.20, random_state=100)"
   ]
  },
  {
   "cell_type": "code",
   "execution_count": null,
   "id": "b525a39d",
   "metadata": {
    "id": "d5e3aca4"
   },
   "outputs": [],
   "source": [
    "%time \n",
    "# downloading preprocessing files and model\n",
    "bert_preprocessor = hub.KerasLayer(preprocess_url)\n",
    "bert_encoder = hub.KerasLayer(encoder_url)"
   ]
  },
  {
   "cell_type": "code",
   "execution_count": null,
   "id": "eea8df73",
   "metadata": {
    "id": "44bab16b"
   },
   "outputs": [],
   "source": [
    "# Bert layers\n",
    "text_input = tf.keras.layers.Input(shape=(), dtype=tf.string, name='text')\n",
    "preprocessed_text = bert_preprocessor(text_input)\n",
    "outputs = bert_encoder(preprocessed_text)\n",
    "##We take 6 as the number of nodes as it the number of categories are 6\n",
    "##Dropout is taken as 10 percent\n",
    "# Neural network layers\n",
    "l = tf.keras.layers.Dropout(0.1, name=\"dropout\")(outputs['pooled_output'])\n",
    "# l = tf.keras.layers.Dense(10, input_dim=6, activation='softmax')\n",
    "l = tf.keras.layers.Dense(6, activation='softmax', name=\"output\")(l)\n",
    "\n",
    "# Use inputs and outputs to construct a final model\n",
    "model = tf.keras.Model(inputs=[text_input], outputs = [l])"
   ]
  },
  {
   "cell_type": "code",
   "execution_count": null,
   "id": "b2b6061b",
   "metadata": {
    "id": "448139eb"
   },
   "outputs": [],
   "source": [
    "METRICS = [\n",
    "      tf.keras.metrics.BinaryAccuracy(name='accuracy'),\n",
    "      tf.keras.metrics.Precision(name='precision'),\n",
    "      tf.keras.metrics.Recall(name='recall')\n",
    "]\n",
    "\n",
    "model.compile(optimizer='adam',\n",
    "              loss='binary_crossentropy',\n",
    "              metrics=METRICS)"
   ]
  },
  {
   "cell_type": "code",
   "execution_count": null,
   "id": "79af7a65",
   "metadata": {
    "id": "PFqHMSaD9TBI"
   },
   "outputs": [],
   "source": [
    "model.summary()"
   ]
  },
  {
   "cell_type": "code",
   "execution_count": null,
   "id": "04f33bcd",
   "metadata": {
    "id": "b2c92eb0"
   },
   "outputs": [],
   "source": [
    "model.fit(X_trainUS, Con_y_trainUS, epochs=1)"
   ]
  },
  {
   "cell_type": "code",
   "execution_count": null,
   "id": "aab561bf",
   "metadata": {
    "id": "0fd0fb46"
   },
   "outputs": [],
   "source": [
    "model.evaluate(X_testUS,Con_y_testUS)"
   ]
  },
  {
   "cell_type": "code",
   "execution_count": null,
   "id": "f1718bc6",
   "metadata": {
    "id": "bv2e6UOiS_BG"
   },
   "outputs": [],
   "source": [
    "cm = confusion_matrix(model.predict(X_testUS),Con_y_testUS)\n",
    "make_confusion_matrix(cm,categories = categories)"
   ]
  },
  {
   "cell_type": "code",
   "execution_count": null,
   "id": "aa419f88",
   "metadata": {
    "id": "e6186f31"
   },
   "outputs": [],
   "source": [
    "y_predicted = model.predict(X_testUS)\n",
    "y_predicted = y_predicted.flatten()"
   ]
  },
  {
   "cell_type": "code",
   "execution_count": null,
   "id": "dd2cb24b",
   "metadata": {
    "id": "8a634ad8"
   },
   "outputs": [],
   "source": [
    "import numpy as np\n",
    "\n",
    "y_predicted = np.where(y_predicted > 0.5, 1, 0)\n",
    "y_predicted"
   ]
  },
  {
   "cell_type": "code",
   "execution_count": null,
   "id": "7b6b684d",
   "metadata": {
    "id": "d95c201a"
   },
   "outputs": [],
   "source": [
    "cm = confusion_matrix(y_test, y_predicted)\n",
    "cm\n",
    "sns.heatmap(cm, annot=True, fmt='d')\n",
    "plt.xlabel('Predicted')\n",
    "plt.ylabel('Truth')"
   ]
  },
  {
   "cell_type": "markdown",
   "id": "0e51b49e",
   "metadata": {
    "id": "coSyt4gw9Ya-"
   },
   "source": [
    "### BERT ONE-HOT encoding of labels"
   ]
  },
  {
   "cell_type": "code",
   "execution_count": null,
   "id": "1d64c07a",
   "metadata": {
    "id": "krCYlM2C9Xes"
   },
   "outputs": [],
   "source": [
    "def labels_to_onehot(labels):\n",
    "    # labels_catg = string_to_int_labels(labels)\n",
    "    a = np.array(labels)\n",
    "    b = np.zeros((a.size, a.max()+1))\n",
    "    b[np.arange(a.size),a] = 1\n",
    "    return b"
   ]
  },
  {
   "cell_type": "code",
   "execution_count": null,
   "id": "10661eb4",
   "metadata": {
    "id": "DgnOKVQB9Xic"
   },
   "outputs": [],
   "source": [
    "y_train_ENC = labels_to_onehot(Con_y_trainUS)\n",
    "y_test_ENC = labels_to_onehot(Con_y_testUS)"
   ]
  },
  {
   "cell_type": "code",
   "execution_count": null,
   "id": "214eb67b",
   "metadata": {
    "id": "TLOPXA_XGQDR"
   },
   "outputs": [],
   "source": [
    "y_train_ENC"
   ]
  },
  {
   "cell_type": "code",
   "execution_count": null,
   "id": "43ae2973",
   "metadata": {
    "id": "p-I0YWHP_bXK"
   },
   "outputs": [],
   "source": [
    "tf.config.run_functions_eagerly(True)"
   ]
  },
  {
   "cell_type": "code",
   "execution_count": null,
   "id": "d92f9104",
   "metadata": {
    "id": "W_BLdEAX-Z6c"
   },
   "outputs": [],
   "source": [
    "model.fit(X_trainUS, y_train_ENC, epochs=3)"
   ]
  },
  {
   "cell_type": "code",
   "execution_count": null,
   "id": "3cf11759",
   "metadata": {
    "id": "ieTPTWdn-qOP"
   },
   "outputs": [],
   "source": [
    "model.evaluate(X_testUS,y_testUS)"
   ]
  },
  {
   "cell_type": "code",
   "execution_count": null,
   "id": "3ddc55a9",
   "metadata": {
    "id": "78HlCD3j-tYk"
   },
   "outputs": [],
   "source": [
    "cm = confusion_matrix(model.predict(X_testUS),y_testUS)\n",
    "make_confusion_matrix(cm,categories = categories)"
   ]
  },
  {
   "cell_type": "markdown",
   "id": "f975765a",
   "metadata": {
    "id": "4n3iSNV-uM_z"
   },
   "source": [
    "## BERT Multi-nomial text classification"
   ]
  },
  {
   "cell_type": "code",
   "execution_count": null,
   "id": "1905bae6",
   "metadata": {
    "id": "VS4q47_xuXKH"
   },
   "outputs": [],
   "source": [
    "\n",
    "import torch\n",
    "from tqdm.notebook import tqdm\n",
    "\n",
    "from transformers import BertTokenizer\n",
    "from torch.utils.data import TensorDataset\n",
    "\n",
    "from transformers import BertForSequenceClassification"
   ]
  },
  {
   "cell_type": "code",
   "execution_count": null,
   "id": "dca7336e",
   "metadata": {
    "id": "ghFrM3VJyXmz"
   },
   "outputs": [],
   "source": [
    "\n",
    "tokenizer = BertTokenizer.from_pretrained('bert-base-uncased', \n",
    "                                          do_lower_case=True)"
   ]
  },
  {
   "cell_type": "code",
   "execution_count": null,
   "id": "c9f6b455",
   "metadata": {
    "id": "5yoBh4uUycap"
   },
   "outputs": [],
   "source": [
    "encoded_data_train = tokenizer.batch_encode_plus(\n",
    "    X_trainUS.values, \n",
    "    add_special_tokens=True, \n",
    "    return_attention_mask=True, \n",
    "    pad_to_max_length=True, \n",
    "    max_length=256, \n",
    "    return_tensors='pt'\n",
    ")\n",
    "encoded_data_val = tokenizer.batch_encode_plus(\n",
    "    X_testUS.values, \n",
    "    add_special_tokens=True, \n",
    "    return_attention_mask=True, \n",
    "    pad_to_max_length=True, \n",
    "    max_length=256, \n",
    "    return_tensors='pt'\n",
    ")\n",
    "\n",
    "\n",
    "input_ids_train = encoded_data_train['input_ids']\n",
    "attention_masks_train = encoded_data_train['attention_mask']\n",
    "labels_train = torch.tensor(Con_y_trainUS.values)\n",
    "\n",
    "input_ids_val = encoded_data_val['input_ids']\n",
    "attention_masks_val = encoded_data_val['attention_mask']\n",
    "labels_val = torch.tensor(Con_y_testUS.values)\n",
    "\n",
    "dataset_train = TensorDataset(input_ids_train, attention_masks_train, labels_train)\n",
    "dataset_val = TensorDataset(input_ids_val, attention_masks_val, labels_val)"
   ]
  },
  {
   "cell_type": "code",
   "execution_count": null,
   "id": "ec4253f9",
   "metadata": {
    "id": "f-9paktN61bW"
   },
   "outputs": [],
   "source": [
    "model = BertForSequenceClassification.from_pretrained(\"bert-base-uncased\",\n",
    "                                                      num_labels=len(label_dict),\n",
    "                                                      output_attentions=False,\n",
    "                                                      output_hidden_states=False)"
   ]
  },
  {
   "cell_type": "code",
   "execution_count": null,
   "id": "624887d5",
   "metadata": {
    "id": "nxSm_Iu-JzAg"
   },
   "outputs": [],
   "source": [
    "from torch.utils.data import DataLoader, RandomSampler, SequentialSampler\n",
    "\n",
    "batch_size = 3\n",
    "\n",
    "dataloader_train = DataLoader(dataset_train, \n",
    "                              sampler=RandomSampler(dataset_train), \n",
    "                              batch_size=batch_size)\n",
    "\n",
    "dataloader_validation = DataLoader(dataset_val, \n",
    "                                   sampler=SequentialSampler(dataset_val), \n",
    "                                   batch_size=batch_size)"
   ]
  },
  {
   "cell_type": "code",
   "execution_count": null,
   "id": "6de29d33",
   "metadata": {
    "id": "zxP_QL4hdl-1"
   },
   "outputs": [],
   "source": [
    "\n",
    "from transformers import AdamW, get_linear_schedule_with_warmup\n",
    "\n",
    "optimizer = AdamW(model.parameters(),\n",
    "                  lr=1e-5, \n",
    "                  eps=1e-8)\n",
    "                  \n",
    "epochs = 5\n",
    "\n",
    "scheduler = get_linear_schedule_with_warmup(optimizer, \n",
    "                                            num_warmup_steps=0,\n",
    "                                            num_training_steps=len(dataloader_train)*epochs)"
   ]
  },
  {
   "cell_type": "code",
   "execution_count": null,
   "id": "b696c4e1",
   "metadata": {
    "id": "ie_xpI3Jeb7u"
   },
   "outputs": [],
   "source": [
    "from sklearn.metrics import f1_score\n",
    "\n",
    "def f1_score_func(preds, labels):\n",
    "    preds_flat = np.argmax(preds, axis=1).flatten()\n",
    "    labels_flat = labels.flatten()\n",
    "    return f1_score(labels_flat, preds_flat, average='weighted')\n",
    "\n",
    "def accuracy_per_class(preds, labels):\n",
    "    label_dict_inverse = {v: k for k, v in label_dict.items()}\n",
    "    \n",
    "    preds_flat = np.argmax(preds, axis=1).flatten()\n",
    "    labels_flat = labels.flatten()\n",
    "\n",
    "    for label in np.unique(labels_flat):\n",
    "        y_preds = preds_flat[labels_flat==label]\n",
    "        y_true = labels_flat[labels_flat==label]\n",
    "        print(f'Class: {label_dict_inverse[label]}')\n",
    "        print(f'Accuracy: {len(y_preds[y_preds==label])}/{len(y_true)}\\n')"
   ]
  },
  {
   "cell_type": "code",
   "execution_count": null,
   "id": "8fb5db15",
   "metadata": {
    "id": "cT4I_SICeh4M"
   },
   "outputs": [],
   "source": [
    "import random\n",
    "\n",
    "seed_val = 17\n",
    "random.seed(seed_val)\n",
    "np.random.seed(seed_val)\n",
    "torch.manual_seed(seed_val)\n",
    "torch.cuda.manual_seed_all(seed_val)\n",
    "\n",
    "def evaluate(dataloader_val):\n",
    "\n",
    "    model.eval()\n",
    "    \n",
    "    loss_val_total = 0\n",
    "    predictions, true_vals = [], []\n",
    "    \n",
    "    for batch in dataloader_val:\n",
    "        \n",
    "        batch = tuple(b for b in batch)\n",
    "        \n",
    "        inputs = {'input_ids':      batch[0],\n",
    "                  'attention_mask': batch[1],\n",
    "                  'labels':         batch[2],\n",
    "                 }\n",
    "\n",
    "        with torch.no_grad():        \n",
    "            outputs = model(**inputs)\n",
    "            \n",
    "        loss = outputs[0]\n",
    "        logits = outputs[1]\n",
    "        loss_val_total += loss.item()\n",
    "\n",
    "        logits = logits.detach().cpu().numpy()\n",
    "        label_ids = inputs['labels'].cpu().numpy()\n",
    "        predictions.append(logits)\n",
    "        true_vals.append(label_ids)\n",
    "    \n",
    "    loss_val_avg = loss_val_total/len(dataloader_val) \n",
    "    \n",
    "    predictions = np.concatenate(predictions, axis=0)\n",
    "    true_vals = np.concatenate(true_vals, axis=0)\n",
    "            \n",
    "    return loss_val_avg, predictions, true_vals\n",
    "    \n",
    "for epoch in tqdm(range(1, epochs+1)):\n",
    "    \n",
    "    model.train()\n",
    "    \n",
    "    loss_train_total = 0\n",
    "\n",
    "    progress_bar = tqdm(dataloader_train, desc='Epoch {:1d}'.format(epoch), leave=False, disable=False)\n",
    "    for batch in progress_bar:\n",
    "\n",
    "        model.zero_grad()\n",
    "        \n",
    "        batch = tuple(b for b in batch)\n",
    "        \n",
    "        inputs = {'input_ids':      batch[0],\n",
    "                  'attention_mask': batch[1],\n",
    "                  'labels':         batch[2],\n",
    "                 }       \n",
    "\n",
    "        outputs = model(**inputs)\n",
    "        \n",
    "        loss = outputs[0]\n",
    "        loss_train_total += loss.item()\n",
    "        loss.backward()\n",
    "\n",
    "        torch.nn.utils.clip_grad_norm_(model.parameters(), 1.0)\n",
    "\n",
    "        optimizer.step()\n",
    "        scheduler.step()\n",
    "        \n",
    "        progress_bar.set_postfix({'training_loss': '{:.3f}'.format(loss.item()/len(batch))})\n",
    "         \n",
    "        \n",
    "    torch.save(model.state_dict(), f'/content/drive/MyDrive/BERT_epochs{epoch}.model')\n",
    "        \n",
    "    tqdm.write(f'\\nEpoch {epoch}')\n",
    "    \n",
    "    loss_train_avg = loss_train_total/len(dataloader_train)            \n",
    "    tqdm.write(f'Training loss: {loss_train_avg}')\n",
    "    \n",
    "    val_loss, predictions, true_vals = evaluate(dataloader_validation)\n",
    "    val_f1 = f1_score_func(predictions, true_vals)\n",
    "    tqdm.write(f'Validation loss: {val_loss}')\n",
    "    tqdm.write(f'F1 Score (Weighted): {val_f1}')"
   ]
  },
  {
   "cell_type": "code",
   "execution_count": null,
   "id": "4f10bb28",
   "metadata": {
    "id": "uLqEvZW7eqxY"
   },
   "outputs": [],
   "source": [
    "model = BertForSequenceClassification.from_pretrained(\"bert-base-uncased\",\n",
    "                                                      num_labels=len(label_dict),\n",
    "                                                      output_attentions=False,\n",
    "                                                      output_hidden_states=False)\n",
    "\n",
    "# model.to(device)\n",
    "\n",
    "model.load_state_dict(torch.load('/content/drive/MyDrive/BERT_epochs1.model', map_location=torch.device('cpu')))\n",
    "\n",
    "_, predictions, true_vals = evaluate(dataloader_validation)\n",
    "accuracy_per_class(predictions, true_vals)"
   ]
  },
  {
   "cell_type": "code",
   "execution_count": null,
   "id": "5ebe39d3",
   "metadata": {
    "id": "EuOovS-jWKEp"
   },
   "outputs": [],
   "source": []
  },
  {
   "cell_type": "markdown",
   "id": "4b7e96ef",
   "metadata": {
    "id": "ddJcrDxBrzpw"
   },
   "source": [
    "### Bibliography\n",
    "\n",
    "{cite:p}`weinberg1995retinoblastoma`"
   ]
  },
  {
   "cell_type": "markdown",
   "id": "4f664d84",
   "metadata": {
    "id": "D1zKmWoBr3LO"
   },
   "source": [
    "@article{weinberg1995retinoblastoma,\n",
    "  title={The retinoblastoma protein and cell cycle control},\n",
    "  author={Weinberg, Robert A},\n",
    "  journal={cell},\n",
    "  volume={81},\n",
    "  number={3},\n",
    "  pages={323--330},\n",
    "  year={1995},\n",
    "  publisher={Elsevier}\n",
    "}"
   ]
  },
  {
   "cell_type": "code",
   "execution_count": null,
   "id": "e500e430",
   "metadata": {
    "id": "H4Xp5GhdsIco"
   },
   "outputs": [],
   "source": []
  }
 ],
 "metadata": {
  "accelerator": "GPU",
  "colab": {
   "collapsed_sections": [
    "17711539",
    "ddJcrDxBrzpw"
   ],
   "name": "SongClassification.ipynb",
   "version": ""
  },
  "kernelspec": {
   "display_name": "Python 3",
   "language": "python",
   "name": "python3"
  },
  "language_info": {
   "codemirror_mode": {
    "name": "ipython",
    "version": 3
   },
   "file_extension": ".py",
   "mimetype": "text/x-python",
   "name": "python",
   "nbconvert_exporter": "python",
   "pygments_lexer": "ipython3",
   "version": "3.6.13"
  }
 },
 "nbformat": 4,
 "nbformat_minor": 5
}
